{
  "nbformat": 4,
  "nbformat_minor": 0,
  "metadata": {
    "colab": {
      "private_outputs": true,
      "provenance": [],
      "collapsed_sections": [
        "mDgbUHAGgjLW",
        "3RnN4peoiCZX",
        "x71ZqKXriCWQ",
        "7hBIi_osiCS2",
        "JlHwYmJAmNHm",
        "H0kj-8xxnORC",
        "nA9Y7ga8ng1Z",
        "lssrdh5qphqQ",
        "JMzcOPDDphqR",
        "g-ATYxFrGrvw",
        "Yfr_Vlr8HBkt",
        "I79__PHVH19G",
        "Ou-I18pAyIpj",
        "fF3858GYyt-u",
        "4_0_7-oCpUZd",
        "hwyV_J3ipUZe",
        "3yB-zSqbpUZe",
        "dEUvejAfpUZe",
        "Fd15vwWVpUZf",
        "bn_IUdTipZyH",
        "49K5P_iCpZyH",
        "Nff-vKELpZyI",
        "kLW572S8pZyI",
        "dWbDXHzopZyI",
        "Iwf50b-R2tYG",
        "GMQiZwjn3iu7",
        "WVIkgGqN3qsr",
        "XkPnILGE3zoT",
        "Hlsf0x5436Go",
        "mT9DMSJo4nBL",
        "c49ITxTc407N",
        "OeJFEK0N496M",
        "9ExmJH0g5HBk",
        "cJNqERVU536h",
        "k5UmGsbsOxih",
        "T0VqWOYE6DLQ",
        "qBMux9mC6MCf",
        "pEMng2IbBLp7",
        "rAdphbQ9Bhjc",
        "TNVZ9zx19K6k",
        "nqoHp30x9hH9",
        "1UUpS68QDMuG",
        "kexQrXU-DjzY",
        "T5CmagL3EC8N",
        "P1XJ9OREExlT",
        "VFOzZv6IFROw",
        "TIqpNgepFxVj",
        "OB4l2ZhMeS1U",
        "PiV4Ypx8fxKe",
        "TfvqoZmBfxKf",
        "JWYfwnehpsJ1",
        "-jK_YjpMpsJ2",
        "bmKjuQ-FpsJ3",
        "9PIHJqyupx6M",
        "EyNgTHvd2WFk",
        "KH5McJBi2d8v",
        "iW_Lq9qf2h6X",
        "-Kee-DAl2viO",
        "gIfDvo9L0UH2"
      ],
      "include_colab_link": true
    },
    "kernelspec": {
      "name": "python3",
      "display_name": "Python 3"
    },
    "language_info": {
      "name": "python"
    }
  },
  "cells": [
    {
      "cell_type": "markdown",
      "metadata": {
        "id": "view-in-github",
        "colab_type": "text"
      },
      "source": [
        "<a href=\"https://colab.research.google.com/github/Maystrix/TED-Talks-Views-Prediction-/blob/main/TED_Talks_Views_Prediction.ipynb\" target=\"_parent\"><img src=\"https://colab.research.google.com/assets/colab-badge.svg\" alt=\"Open In Colab\"/></a>"
      ]
    },
    {
      "cell_type": "markdown",
      "source": [
        "# **Project Name**    - \n",
        "\n"
      ],
      "metadata": {
        "id": "vncDsAP0Gaoa"
      }
    },
    {
      "cell_type": "markdown",
      "source": [
        "##### **Project Type**    - Regression/TED Talks Views Prediction\n",
        "##### **Contribution**    - Individual\n"
      ],
      "metadata": {
        "id": "beRrZCGUAJYm"
      }
    },
    {
      "cell_type": "markdown",
      "source": [
        "# **Project Summary -**"
      ],
      "metadata": {
        "id": "FJNUwmbgGyua"
      }
    },
    {
      "cell_type": "markdown",
      "source": [
        "We had a dataset of over 4000 TED Events and the main objective was to build a model for views generated for these events. The dataset was feature-rich but was heavily influenced by outliers , which were handled using Interquartile Range (IQR) method. Many important insights were received from the features extracted from the dataset using Feature-Engineering. One-Hot Encoding was performed for binary conversion of object type data-types. Regression Models implemented for analysis were Linear Regression along with regularizations Lasso, Ridge & Elastic-Net followed by Decision Trees and its ensembles techniques. Models were evaluated on their MAE, R2 score which concluded with Random-Forest being the best of all the models with a train-score of 98% and test-score of 80% and least MAE . Feature importance were calculated using SHAPLEY method and it was found that features generated using feature engineering were the most important and impacted the model prediction the most. It was concluded that TED events can be focused more on the theme of Self-Improvement , Education, Personality development within the time-limit of 16 min with 4-7 topics for each event and make the event available in as many languages as possible .These factors were associated with wide-spread reach of TED events and its popularity . Also , if the events are published at the start of the Year , close to March month , max views were generated.It was concluded that on an avg the views generated for any new TED events following the above features and factors could fetch an average views of 2.17 million."
      ],
      "metadata": {
        "id": "F6v_1wHtG2nS"
      }
    },
    {
      "cell_type": "markdown",
      "source": [
        "# **GitHub Link -**"
      ],
      "metadata": {
        "id": "w6K7xa23Elo4"
      }
    },
    {
      "cell_type": "markdown",
      "source": [
        "https://github.com/Maystrix/TED-Talks-Views-Prediction-"
      ],
      "metadata": {
        "id": "h1o69JH3Eqqn"
      }
    },
    {
      "cell_type": "markdown",
      "source": [
        "# **Problem Statement**\n"
      ],
      "metadata": {
        "id": "yQaldy8SH6Dl"
      }
    },
    {
      "cell_type": "markdown",
      "source": [
        "**Write Problem Statement Here.**"
      ],
      "metadata": {
        "id": "DpeJGUA3kjGy"
      }
    },
    {
      "cell_type": "markdown",
      "metadata": {
        "id": "ELNB2krUx2XV"
      },
      "source": [
        "TED is devoted to spreading powerful ideas on just about any topic. These datasets contain over\n",
        "4,000 TED talks including transcripts in many languages.\n",
        "Founded in 1984 by Richard Salman as a nonprofit organization\n",
        "that aimed at bringing experts from the fields of Technology, Entertainment, and Design\n",
        "together, TED Conferences have gone on to become the Mecca of ideas from virtually all\n",
        "walks of life. As of 2015, TED and its sister TEDx chapters have published more than 2000\n",
        "talks for free consumption by the masses and its speaker list boasts of the likes of Al Gore,\n",
        "Jimmy Wales, Shahrukh Khan, and Bill Gates.\n",
        "The main objective is to build a predictive model, which could help in predicting the views of\n",
        "the videos uploaded on the TEDx website.\n"
      ]
    },
    {
      "cell_type": "markdown",
      "source": [
        "# **General Guidelines** : -  "
      ],
      "metadata": {
        "id": "mDgbUHAGgjLW"
      }
    },
    {
      "cell_type": "markdown",
      "source": [
        "1.   Well-structured, formatted, and commented code is required. \n",
        "2.   Exception Handling, Production Grade Code & Deployment Ready Code will be a plus. Those students will be awarded some additional credits. \n",
        "     \n",
        "     The additional credits will have advantages over other students during Star Student selection.\n",
        "       \n",
        "             [ Note: - Deployment Ready Code is defined as, the whole .ipynb notebook should be executable in one go\n",
        "                       without a single error logged. ]\n",
        "\n",
        "3.   Each and every logic should have proper comments.\n",
        "4. You may add as many number of charts you want. Make Sure for each and every chart the following format should be answered.\n",
        "        \n",
        "\n",
        "```\n",
        "# Chart visualization code\n",
        "```\n",
        "            \n",
        "\n",
        "*   Why did you pick the specific chart?\n",
        "*   What is/are the insight(s) found from the chart?\n",
        "* Will the gained insights help creating a positive business impact? \n",
        "Are there any insights that lead to negative growth? Justify with specific reason.\n",
        "\n",
        "5. You have to create at least 15 logical & meaningful charts having important insights.\n",
        "\n",
        "\n",
        "[ Hints : - Do the Vizualization in  a structured way while following \"UBM\" Rule. \n",
        "\n",
        "U - Univariate Analysis,\n",
        "\n",
        "B - Bivariate Analysis (Numerical - Categorical, Numerical - Numerical, Categorical - Categorical)\n",
        "\n",
        "M - Multivariate Analysis\n",
        " ]\n",
        "\n",
        "\n",
        "\n",
        "\n",
        "\n",
        "6. You may add more ml algorithms for model creation. Make sure for each and every algorithm, the following format should be answered.\n",
        "\n",
        "\n",
        "*   Explain the ML Model used and it's performance using Evaluation metric Score Chart.\n",
        "\n",
        "\n",
        "*   Cross- Validation & Hyperparameter Tuning\n",
        "\n",
        "*   Have you seen any improvement? Note down the improvement with updates Evaluation metric Score Chart.\n",
        "\n",
        "*   Explain each evaluation metric's indication towards business and the business impact pf the ML model used.\n",
        "\n",
        "\n",
        "\n",
        "\n",
        "\n",
        "\n",
        "\n",
        "\n",
        "\n",
        "\n",
        "\n",
        "\n",
        "\n",
        "\n",
        "\n",
        "\n",
        "\n",
        "\n"
      ],
      "metadata": {
        "id": "ZrxVaUj-hHfC"
      }
    },
    {
      "cell_type": "markdown",
      "source": [
        "# ***Let's Begin !***"
      ],
      "metadata": {
        "id": "O_i_v8NEhb9l"
      }
    },
    {
      "cell_type": "code",
      "source": [
        "from google.colab import drive\n",
        "drive.mount('/content/drive')"
      ],
      "metadata": {
        "id": "0Fpplhu6kEYO"
      },
      "execution_count": null,
      "outputs": []
    },
    {
      "cell_type": "markdown",
      "source": [
        "## ***1. Know Your Data***"
      ],
      "metadata": {
        "id": "HhfV-JJviCcP"
      }
    },
    {
      "cell_type": "markdown",
      "metadata": {
        "id": "_CkKNg0JnZki"
      },
      "source": [
        "\n",
        "\n",
        "*   **Features** mentioned in the dataset :\n",
        "\n",
        "1. **talk_id:** Talk identification number provided by TED\n",
        "2. **title:** Title of the talk\n",
        "3. **speaker_1:** First speaker in TED's speaker list\n",
        "4. **all_speakers:** Speakers in the talk\n",
        "5. **occupations:** Occupations of the speakers\n",
        "6. **about_speakers:** Blurb about each speaker\n",
        "7. **recorded_date:** Date the talk was recorded\n",
        "8. **published_date:** Date the talk was published to TED.com\n",
        "9. **event:** Event or medium in which the talk was given\n",
        "10. **native_lang:** Language the talk was given in\n",
        "11. **available_lang:** All available languages (lang_code) for a talk\n",
        "12. **comments:** Count of comments\n",
        "13. **duration:** Duration in seconds\n",
        "14. **topics:** Related tags or topics for the talk\n",
        "15. **related_talks:** Related talks (key='talk_id',value='title')\n",
        "16. **url:** URL of the talk\n",
        "17. **description:** Description of the talk\n",
        "18. **transcript:** Full transcript of the talk\n",
        "\n"
      ]
    },
    {
      "cell_type": "markdown",
      "source": [
        "### Import Libraries"
      ],
      "metadata": {
        "id": "Y3lxredqlCYt"
      }
    },
    {
      "cell_type": "code",
      "execution_count": null,
      "metadata": {
        "id": "uQMJWU9AxrcI"
      },
      "outputs": [],
      "source": [
        "import pandas as pd\n",
        "import numpy as np\n",
        "import matplotlib.pyplot as plt\n",
        "import seaborn as sns\n",
        "%matplotlib inline\n",
        "\n",
        "import ast\n",
        "from datetime import datetime\n",
        "\n",
        "from scipy.stats import zscore\n",
        "from sklearn.model_selection import train_test_split\n",
        "from sklearn.linear_model import LinearRegression\n",
        "\n",
        "from sklearn import metrics\n",
        "from sklearn.metrics import mean_squared_error\n",
        "from sklearn.metrics import mean_absolute_error\n",
        "from sklearn.metrics import r2_score\n",
        "\n",
        "from sklearn.linear_model import Lasso\n",
        "from sklearn.model_selection import GridSearchCV\n",
        "from sklearn.linear_model import Ridge\n",
        "from sklearn.linear_model import ElasticNet\n",
        "\n",
        "from sklearn.tree import DecisionTreeRegressor\n",
        "from sklearn.ensemble import BaggingRegressor\n",
        "from sklearn import tree\n",
        "from sklearn.ensemble import RandomForestRegressor\n",
        "from sklearn.model_selection import RandomizedSearchCV\n",
        "from sklearn import ensemble\n",
        "from sklearn.ensemble import GradientBoostingRegressor\n",
        "from xgboost import XGBRegressor\n",
        "import xgboost as xgb\n",
        "from sklearn.neighbors import KNeighborsRegressor\n",
        "\n",
        "\n",
        "from sklearn.preprocessing import StandardScaler\n",
        "from sklearn.preprocessing import MinMaxScaler\n",
        "\n",
        "from scipy.stats import uniform\n",
        "from scipy.stats import norm\n",
        "from scipy.stats import chi2\n",
        "from scipy.stats import t\n",
        "from scipy.stats import f\n"
      ]
    },
    {
      "cell_type": "markdown",
      "source": [
        "### Dataset Loading"
      ],
      "metadata": {
        "id": "3RnN4peoiCZX"
      }
    },
    {
      "cell_type": "code",
      "source": [
        "# Load Dataset"
      ],
      "metadata": {
        "id": "4CkvbW_SlZ_R"
      },
      "execution_count": null,
      "outputs": []
    },
    {
      "cell_type": "code",
      "execution_count": null,
      "metadata": {
        "id": "55v5XReAzQiI"
      },
      "outputs": [],
      "source": [
        "df = pd.read_csv(\"/content/drive/MyDrive/Almabetter/Capstone Projects/Regression/Copy of data_ted_talks.csv\")"
      ]
    },
    {
      "cell_type": "code",
      "execution_count": null,
      "metadata": {
        "id": "MGZ0UEkuqD45"
      },
      "outputs": [],
      "source": [
        "ted_df = df.copy()"
      ]
    },
    {
      "cell_type": "markdown",
      "source": [
        "### Dataset First View"
      ],
      "metadata": {
        "id": "x71ZqKXriCWQ"
      }
    },
    {
      "cell_type": "code",
      "source": [
        "# Dataset First Look"
      ],
      "metadata": {
        "id": "LWNFOSvLl09H"
      },
      "execution_count": null,
      "outputs": []
    },
    {
      "cell_type": "code",
      "execution_count": null,
      "metadata": {
        "id": "G1PY7d-0qRd9"
      },
      "outputs": [],
      "source": [
        "ted_df.head()"
      ]
    },
    {
      "cell_type": "markdown",
      "source": [
        "### Dataset Rows & Columns count"
      ],
      "metadata": {
        "id": "7hBIi_osiCS2"
      }
    },
    {
      "cell_type": "code",
      "source": [
        "# Dataset Rows & Columns count"
      ],
      "metadata": {
        "id": "Kllu7SJgmLij"
      },
      "execution_count": null,
      "outputs": []
    },
    {
      "cell_type": "code",
      "execution_count": null,
      "metadata": {
        "id": "swOAbe6FsUeG"
      },
      "outputs": [],
      "source": [
        "ted_df.shape"
      ]
    },
    {
      "cell_type": "markdown",
      "metadata": {
        "id": "Ml2aJRH4I0gw"
      },
      "source": [
        "* No. of instances  = 4005\n",
        "* No. of variables = 19\n",
        "* Target variable = 'views'"
      ]
    },
    {
      "cell_type": "markdown",
      "source": [
        "### Dataset Information"
      ],
      "metadata": {
        "id": "JlHwYmJAmNHm"
      }
    },
    {
      "cell_type": "code",
      "source": [
        "# Dataset Info"
      ],
      "metadata": {
        "id": "e9hRXRi6meOf"
      },
      "execution_count": null,
      "outputs": []
    },
    {
      "cell_type": "code",
      "execution_count": null,
      "metadata": {
        "id": "tEYkxx3mqT_p"
      },
      "outputs": [],
      "source": [
        "ted_df.info()"
      ]
    },
    {
      "cell_type": "markdown",
      "source": [
        "#### Duplicate Values"
      ],
      "metadata": {
        "id": "35m5QtbWiB9F"
      }
    },
    {
      "cell_type": "code",
      "source": [
        "# Dataset Duplicate Value Count\n",
        "ted_df.duplicated().sum()"
      ],
      "metadata": {
        "id": "1sLdpKYkmox0"
      },
      "execution_count": null,
      "outputs": []
    },
    {
      "cell_type": "markdown",
      "source": [
        "#### Missing Values/Null Values"
      ],
      "metadata": {
        "id": "PoPl-ycgm1ru"
      }
    },
    {
      "cell_type": "code",
      "source": [
        "# Missing Values/Null Values Count"
      ],
      "metadata": {
        "id": "GgHWkxvamxVg"
      },
      "execution_count": null,
      "outputs": []
    },
    {
      "cell_type": "code",
      "execution_count": null,
      "metadata": {
        "id": "Wa80m3nhqdH2"
      },
      "outputs": [],
      "source": [
        "ted_df.isnull().sum()"
      ]
    },
    {
      "cell_type": "markdown",
      "source": [
        "### What did you know about your dataset?"
      ],
      "metadata": {
        "id": "H0kj-8xxnORC"
      }
    },
    {
      "cell_type": "markdown",
      "source": [
        "*Dataset contains 4005 columns and 19 rows.Target variable is integer datatype. Some columns contain null values which need to be handled*"
      ],
      "metadata": {
        "id": "gfoNAAC-nUe_"
      }
    },
    {
      "cell_type": "markdown",
      "source": [
        "## ***2. Understanding Your Variables***"
      ],
      "metadata": {
        "id": "nA9Y7ga8ng1Z"
      }
    },
    {
      "cell_type": "code",
      "source": [
        "# Dataset Columns\n",
        "ted_df.columns"
      ],
      "metadata": {
        "id": "j7xfkqrt5Ag5"
      },
      "execution_count": null,
      "outputs": []
    },
    {
      "cell_type": "code",
      "source": [
        "# Dataset Describe\n",
        "ted_df.describe(include = 'all').T"
      ],
      "metadata": {
        "id": "DnOaZdaE5Q5t"
      },
      "execution_count": null,
      "outputs": []
    },
    {
      "cell_type": "markdown",
      "source": [
        "* Views"
      ],
      "metadata": {
        "id": "O7Nmyaj0ndRp"
      }
    },
    {
      "cell_type": "code",
      "source": [
        "plt.figure(figsize=(8,6))\n",
        "sns.distplot((ted_df['views']))\n",
        "plt.xlabel('Views')"
      ],
      "metadata": {
        "id": "XyQ-HeiBncXR"
      },
      "execution_count": null,
      "outputs": []
    },
    {
      "cell_type": "code",
      "source": [
        "# decreasing skewness by using sqrt transformation\n",
        "plt.figure(figsize=(8,6))\n",
        "sns.distplot(np.sqrt(ted_df['views']))          \n",
        "plt.xlabel('Views')"
      ],
      "metadata": {
        "id": "e11MXY6snhch"
      },
      "execution_count": null,
      "outputs": []
    },
    {
      "cell_type": "code",
      "source": [
        "ted_df['views'].describe()"
      ],
      "metadata": {
        "id": "rFuX7ct2njYz"
      },
      "execution_count": null,
      "outputs": []
    },
    {
      "cell_type": "markdown",
      "source": [],
      "metadata": {
        "id": "XfHcpKmsnl9R"
      }
    },
    {
      "cell_type": "markdown",
      "source": [
        "* Duration"
      ],
      "metadata": {
        "id": "sNcxMExbnnAz"
      }
    },
    {
      "cell_type": "code",
      "execution_count": null,
      "metadata": {
        "id": "KDLYq9s7yuGB"
      },
      "outputs": [],
      "source": [
        "plt.figure(figsize=(8,6))\n",
        "sns.distplot((ted_df['duration']))\n",
        "plt.xlabel('Duration')"
      ]
    },
    {
      "cell_type": "code",
      "execution_count": null,
      "metadata": {
        "id": "rCwKpNW3YhSm"
      },
      "outputs": [],
      "source": [
        "ted_df['duration'].describe()"
      ]
    },
    {
      "cell_type": "markdown",
      "metadata": {
        "id": "JnTtINgBnwdF"
      },
      "source": []
    },
    {
      "cell_type": "markdown",
      "metadata": {
        "id": "3SDE6w5rbLu_"
      },
      "source": [
        "* Comments"
      ]
    },
    {
      "cell_type": "code",
      "execution_count": null,
      "metadata": {
        "id": "4Jh88R1OaBiP"
      },
      "outputs": [],
      "source": [
        "plt.figure(figsize=(8,6))\n",
        "sns.distplot((ted_df['comments']))\n",
        "plt.xlabel('Comments')"
      ]
    },
    {
      "cell_type": "code",
      "execution_count": null,
      "metadata": {
        "id": "TcS5x0bTbRYo"
      },
      "outputs": [],
      "source": [
        "ted_df['comments'].describe()"
      ]
    },
    {
      "cell_type": "markdown",
      "metadata": {
        "id": "BPQnd1dxbVzP"
      },
      "source": []
    },
    {
      "cell_type": "markdown",
      "source": [
        "### Variables Description "
      ],
      "metadata": {
        "id": "PBTbrJXOngz2"
      }
    },
    {
      "cell_type": "markdown",
      "source": [
        "* *The average views garned by TED events is 2.14 million and median is 1.37 million. This suggests a very high popularity of TED events*\n",
        "* *The average duration for TED events is around 714 seconds which is 11 minutes, whereas majority of TED events have time-duration of 960 seconds which approximates to around 15 minutes which is a very good time distribution*\n",
        "* *TED events receive an average of 90 comments and median is 68 which is very less considering the popularity of the TED events. While the maximum count of comments received are greater than 135*"
      ],
      "metadata": {
        "id": "aJV4KIxSnxay"
      }
    },
    {
      "cell_type": "markdown",
      "source": [
        "### Check Unique Values for each variable."
      ],
      "metadata": {
        "id": "u3PMJOP6ngxN"
      }
    },
    {
      "cell_type": "code",
      "source": [
        "# Check Unique Values for each variable.\n",
        "for col in ted_df:\n",
        "    print(col ,\":\\n\", ted_df[col].unique())"
      ],
      "metadata": {
        "id": "zms12Yq5n-jE"
      },
      "execution_count": null,
      "outputs": []
    },
    {
      "cell_type": "markdown",
      "source": [
        "## 3. ***Data Wrangling***"
      ],
      "metadata": {
        "id": "dauF4eBmngu3"
      }
    },
    {
      "cell_type": "code",
      "source": [
        "# Write your code to make your dataset analysis ready."
      ],
      "metadata": {
        "id": "wk-9a2fpoLcV"
      },
      "execution_count": null,
      "outputs": []
    },
    {
      "cell_type": "markdown",
      "metadata": {
        "id": "wlEa4_iKVaV_"
      },
      "source": [
        "* **Grouping events based on decades and uniqe suffixes to reduce complexity**"
      ]
    },
    {
      "cell_type": "code",
      "execution_count": null,
      "metadata": {
        "id": "kRfWr5wwtwq8"
      },
      "outputs": [],
      "source": [
        "ted_df['event'].value_counts()"
      ]
    },
    {
      "cell_type": "code",
      "execution_count": null,
      "metadata": {
        "id": "D-p_s0ql_8aG"
      },
      "outputs": [],
      "source": [
        "#grouping mulltiple events into single main event\n",
        "ted_df['Event_Category'] = 'Others'\n",
        "for i in range(len(df)):\n",
        "    if ted_df['event'][i][0:5]=='TED20':\n",
        "        ted_df['Event_Category'][i] = 'TED2000s'\n",
        "    elif ted_df['event'][i][0:5]=='TED19':\n",
        "        ted_df['Event_Category'][i] = 'TED1900s'\n",
        "    elif ted_df['event'][i][0:4]=='TEDx':\n",
        "        ted_df['Event_Category'][i] = \"TEDx\"\n",
        "    elif ted_df['event'][i][0:4]=='TED@':\n",
        "        ted_df['Event_Category'][i] = \"TED@\"\n",
        "    elif ted_df['event'][i][0:8]=='TEDSalon':\n",
        "        ted_df['Event_Category'][i] = \"TEDSalon\"\n",
        "    elif ted_df['event'][i][0:6]=='TED-Ed':\n",
        "        ted_df['Event_Category'][i] = 'TED-Ed'\n",
        "    elif ted_df['event'][i][0:8]=='TEDWomen':\n",
        "        ted_df['Event_Category'][i] = 'TEDWomen'\n",
        "    elif ted_df['event'][i][0:6]=='TEDMED':\n",
        "        ted_df['Event_Category'][i] = 'TEDMED'\n",
        "    elif ted_df['event'][i][0:3]=='TED':\n",
        "        ted_df['Event_Category'][i] = 'TED_Other'"
      ]
    },
    {
      "cell_type": "code",
      "execution_count": null,
      "metadata": {
        "id": "0S2OVTuuuQ6q"
      },
      "outputs": [],
      "source": [
        "ted_df['Event_Category'].unique()"
      ]
    },
    {
      "cell_type": "code",
      "execution_count": null,
      "metadata": {
        "id": "uEjBQ72UvL0H"
      },
      "outputs": [],
      "source": [
        "ted_df['Event_Category'].value_counts()"
      ]
    },
    {
      "cell_type": "markdown",
      "metadata": {
        "id": "XBm3nvW7V92e"
      },
      "source": [
        "* **Creating new datetime features like date, month, year, day and time_since_published features for better understanding and evaluation of dataset**"
      ]
    },
    {
      "cell_type": "code",
      "execution_count": null,
      "metadata": {
        "id": "vxfNH-KwvbS7"
      },
      "outputs": [],
      "source": [
        "ted_df['recorded_date'] = pd.to_datetime(ted_df['recorded_date'], format= \"%Y-%m-%d\")\n",
        "ted_df['published_date'] = pd.to_datetime(ted_df['published_date'], format = \"%Y-%m-%d\")"
      ]
    },
    {
      "cell_type": "markdown",
      "metadata": {
        "id": "UsV4mNw73rpT"
      },
      "source": [
        "* Last date of published event"
      ]
    },
    {
      "cell_type": "code",
      "execution_count": null,
      "metadata": {
        "id": "jvqFCCyd28sf"
      },
      "outputs": [],
      "source": [
        "last_date = ted_df['published_date'].max()\n",
        "last_date"
      ]
    },
    {
      "cell_type": "markdown",
      "metadata": {
        "id": "pAkNCyat3xlO"
      },
      "source": [
        "* First- date of published event"
      ]
    },
    {
      "cell_type": "code",
      "execution_count": null,
      "metadata": {
        "id": "BqrR-X4B2_ZV"
      },
      "outputs": [],
      "source": [
        "first_date = ted_df['published_date'].min()\n",
        "first_date"
      ]
    },
    {
      "cell_type": "markdown",
      "metadata": {
        "id": "iP1_-9Di393X"
      },
      "source": [
        "* Converting into datetime "
      ]
    },
    {
      "cell_type": "code",
      "execution_count": null,
      "metadata": {
        "id": "GOMNU3d22rje"
      },
      "outputs": [],
      "source": [
        "ted_df['Day'] = ted_df['published_date'].dt.day_name()"
      ]
    },
    {
      "cell_type": "code",
      "execution_count": null,
      "metadata": {
        "id": "Iy7DrC4ksq3d"
      },
      "outputs": [],
      "source": [
        "ted_df['Month'] = ted_df['published_date'].dt.month_name()"
      ]
    },
    {
      "cell_type": "code",
      "execution_count": null,
      "metadata": {
        "id": "0eVylIZ74COX"
      },
      "outputs": [],
      "source": [
        "ted_df[\"year\"] = ted_df[\"published_date\"].apply(lambda x: x.year)\n",
        "ted_df[\"day_num\"] = ted_df[\"published_date\"].apply(lambda x: x.day)"
      ]
    },
    {
      "cell_type": "code",
      "execution_count": null,
      "metadata": {
        "id": "TvfE8xtXgkFH"
      },
      "outputs": [],
      "source": [
        "ted_df['time_since_published'] = (last_date - ted_df['published_date']).apply(lambda x:x.days)"
      ]
    },
    {
      "cell_type": "code",
      "execution_count": null,
      "metadata": {
        "id": "Bcn_6YUUuVkz"
      },
      "outputs": [],
      "source": [
        "ted_df['daily_views'] = ted_df['views'] / (ted_df['time_since_published'])"
      ]
    },
    {
      "cell_type": "code",
      "source": [
        "ted_df.head(2)"
      ],
      "metadata": {
        "id": "N9hdvH-1qYYt"
      },
      "execution_count": null,
      "outputs": []
    },
    {
      "cell_type": "markdown",
      "source": [
        "* **Finding number of unique topics in dataset**"
      ],
      "metadata": {
        "id": "XiKowoK8rVSI"
      }
    },
    {
      "cell_type": "code",
      "execution_count": null,
      "metadata": {
        "id": "2CHvY8LE_61J"
      },
      "outputs": [],
      "source": [
        "temp = ted_df['topics'].iloc[1]\n",
        "temp"
      ]
    },
    {
      "cell_type": "code",
      "execution_count": null,
      "metadata": {
        "id": "_uuaPePVWQ9v"
      },
      "outputs": [],
      "source": [
        "temp_eval = ast.literal_eval(temp)\n",
        "temp_eval"
      ]
    },
    {
      "cell_type": "code",
      "execution_count": null,
      "metadata": {
        "id": "CQ5nYQDqjyi2"
      },
      "outputs": [],
      "source": [
        "# finding number of topics in dataset\n",
        "def get_num_topics(temp):\n",
        "\n",
        "  temp_eval = ast.literal_eval(temp)\n",
        "  num_topics = []\n",
        "  for t in temp_eval:\n",
        "    num_topics = len(temp_eval)\n",
        "    \n",
        "  return num_topics\n",
        "\n",
        "\n",
        "ted_df['Num_of_Topics'] = ted_df['topics'].map(get_num_topics)"
      ]
    },
    {
      "cell_type": "code",
      "execution_count": null,
      "metadata": {
        "id": "LoeiOQA8eU38"
      },
      "outputs": [],
      "source": [
        "get_num_topics(temp)"
      ]
    },
    {
      "cell_type": "markdown",
      "source": [
        "* **Number of Available Languages Count**"
      ],
      "metadata": {
        "id": "kcoAzsCWtBf2"
      }
    },
    {
      "cell_type": "code",
      "source": [
        "temp = ted_df['available_lang'][0]\n",
        "temp"
      ],
      "metadata": {
        "id": "6st0ogWRtICa"
      },
      "execution_count": null,
      "outputs": []
    },
    {
      "cell_type": "code",
      "execution_count": null,
      "metadata": {
        "id": "zvJVMx17ky83"
      },
      "outputs": [],
      "source": [
        "temp_eval = ast.literal_eval(temp)\n",
        "#temp_eval"
      ]
    },
    {
      "cell_type": "code",
      "execution_count": null,
      "metadata": {
        "id": "w8zLqif0Rm3E"
      },
      "outputs": [],
      "source": [
        "# finding unique topics in dataset\n",
        "def get_lanuages(temp):\n",
        "\n",
        "  temp_eval = ast.literal_eval(temp)\n",
        "  lang_count = []\n",
        "  for t in temp_eval:\n",
        "    lang_count = len(temp_eval)  \n",
        "  return lang_count\n",
        "\n",
        "\n",
        "ted_df['Available_lang'] = ted_df['available_lang'].map(get_lanuages)"
      ]
    },
    {
      "cell_type": "code",
      "execution_count": null,
      "metadata": {
        "id": "9ZjcnkqdlJnq"
      },
      "outputs": [],
      "source": [
        "get_lanuages(temp)"
      ]
    },
    {
      "cell_type": "markdown",
      "metadata": {
        "id": "eIb61Z3q9bRd"
      },
      "source": [
        "* **Speaker_1 average views**"
      ]
    },
    {
      "cell_type": "code",
      "execution_count": null,
      "metadata": {
        "id": "C8sEOMpw9hEt"
      },
      "outputs": [],
      "source": [
        "Speaker_avg_views = ted_df.groupby('speaker_1').agg({'views':'mean'}).sort_values(['views'], ascending=False)\n",
        "Speaker_avg_views = Speaker_avg_views.to_dict()\n",
        "Speaker_avg_views = Speaker_avg_views.values()\n",
        "Speaker_avg_views = list(Speaker_avg_views)[0]\n",
        "ted_df['Speaker_avg_views'] = ted_df['speaker_1'].map(Speaker_avg_views)"
      ]
    },
    {
      "cell_type": "code",
      "source": [
        "ted_df.head(2)"
      ],
      "metadata": {
        "id": "C1O6JafctwZR"
      },
      "execution_count": null,
      "outputs": []
    },
    {
      "cell_type": "markdown",
      "source": [
        "### What all manipulations have you done and insights you found?"
      ],
      "metadata": {
        "id": "MSa1f5Uengrz"
      }
    },
    {
      "cell_type": "markdown",
      "source": [
        "* *Grouping multiple TED events together into easily interpretable groups*\n",
        "* *Creating new datetime features like day, year, month, time_since_published for better evaluation of data*\n",
        "* *Finding NUmber of unique topics and Available_languages from the dataset*\n",
        "* *Finding average views of Speaker*"
      ],
      "metadata": {
        "id": "LbyXE7I1olp8"
      }
    },
    {
      "cell_type": "markdown",
      "source": [
        "## ***4. Data Vizualization, Storytelling & Experimenting with charts : Understand the relationships between variables***"
      ],
      "metadata": {
        "id": "GF8Ens_Soomf"
      }
    },
    {
      "cell_type": "markdown",
      "source": [
        "#### Chart - 1"
      ],
      "metadata": {
        "id": "0wOQAZs5pc--"
      }
    },
    {
      "cell_type": "code",
      "source": [
        "# Chart - 1 visualization code\n",
        "\n",
        "#top 5 speakers\n",
        "temp=ted_df.groupby(['speaker_1'],as_index=False)['views'].sum().sort_values('views',ascending=False)[:5]\n",
        "plt.figure(figsize=(10,8)) \n",
        "ax=sns.barplot(x='speaker_1', y='views',data=temp)\n",
        "plt.setp(ax.get_xticklabels(), rotation=50);\n",
        "plt.title('Top 5 speaker according to views')\n",
        "plt.xlabel('Speaker')\n",
        "plt.ylabel('Views (In Millions')\n",
        "ax.grid(False)"
      ],
      "metadata": {
        "id": "7v_ESjsspbW7"
      },
      "execution_count": null,
      "outputs": []
    },
    {
      "cell_type": "code",
      "source": [
        "# Speaker with most talks\n",
        "speaker_count = ted_df['speaker_1'].value_counts()\n",
        "speaker_count"
      ],
      "metadata": {
        "id": "hrW0kLKVvLTI"
      },
      "execution_count": null,
      "outputs": []
    },
    {
      "cell_type": "markdown",
      "source": [
        "##### 1. Why did you pick the specific chart?"
      ],
      "metadata": {
        "id": "K5QZ13OEpz2H"
      }
    },
    {
      "cell_type": "markdown",
      "source": [
        "*Barplot describes count of various features wrt target variable*"
      ],
      "metadata": {
        "id": "XESiWehPqBRc"
      }
    },
    {
      "cell_type": "markdown",
      "source": [
        "##### 2. What is/are the insight(s) found from the chart?"
      ],
      "metadata": {
        "id": "lQ7QKXXCp7Bj"
      }
    },
    {
      "cell_type": "markdown",
      "metadata": {
        "id": "4I15T8d7YF2k"
      },
      "source": [
        "*Chart describes the top 5 speakers wrt views generated*"
      ]
    },
    {
      "cell_type": "markdown",
      "source": [
        "##### 3. Will the gained insights help creating a positive business impact? \n",
        "Are there any insights that lead to negative growth? Justify with specific reason."
      ],
      "metadata": {
        "id": "448CDAPjqfQr"
      }
    },
    {
      "cell_type": "markdown",
      "source": [
        "*Chart gives insight into most popular speakers and correspondingly the topics and available languages*"
      ],
      "metadata": {
        "id": "6b-_X7trmt9P"
      }
    },
    {
      "cell_type": "markdown",
      "source": [
        "#### Chart - 2"
      ],
      "metadata": {
        "id": "KSlN3yHqYklG"
      }
    },
    {
      "cell_type": "code",
      "source": [
        "# Chart - 2 visualization code\n",
        "\n",
        "# Speaker vs. talks delivered:\n",
        "speaker_count = ted_df['speaker_1'].value_counts()\n",
        "speaker_count = pd.DataFrame(speaker_count).reset_index()\n",
        "speaker_count.columns = ['Speaker_Name', 'talks_delivered']\n",
        "most_talks = speaker_count.nlargest(5, 'talks_delivered')\n",
        "plt.figure(figsize=(10,6))\n",
        "sns.barplot(x = 'Speaker_Name', y = 'talks_delivered', data = most_talks)"
      ],
      "metadata": {
        "id": "R4YgtaqtYklH"
      },
      "execution_count": null,
      "outputs": []
    },
    {
      "cell_type": "markdown",
      "source": [
        "##### 1. Why did you pick the specific chart?"
      ],
      "metadata": {
        "id": "t6dVpIINYklI"
      }
    },
    {
      "cell_type": "markdown",
      "source": [
        "*Barplot describes count of various features wrt target variable*"
      ],
      "metadata": {
        "id": "5aaW0BYyYklI"
      }
    },
    {
      "cell_type": "markdown",
      "source": [
        "##### 2. What is/are the insight(s) found from the chart?"
      ],
      "metadata": {
        "id": "ijmpgYnKYklI"
      }
    },
    {
      "cell_type": "markdown",
      "metadata": {
        "id": "g1xjEAdeYnM9"
      },
      "source": [
        "*Chart describes the Top 5 speakers wrt talks delivered from all events combined*"
      ]
    },
    {
      "cell_type": "markdown",
      "source": [
        "##### 3. Will the gained insights help creating a positive business impact? \n",
        "Are there any insights that lead to negative growth? Justify with specific reason."
      ],
      "metadata": {
        "id": "-JiQyfWJYklI"
      }
    },
    {
      "cell_type": "markdown",
      "source": [
        "*Chart gives insight into most active speakers and whether it is linked to popularity(views) of the event*"
      ],
      "metadata": {
        "id": "BcBbebzrYklV"
      }
    },
    {
      "cell_type": "markdown",
      "source": [
        "#### Chart - 3"
      ],
      "metadata": {
        "id": "EM7whBJCYoAo"
      }
    },
    {
      "cell_type": "code",
      "source": [
        "# Chart - 3 visualization code\n",
        "\n",
        "# Top titles \n",
        "temp=ted_df.groupby(['title'],as_index=False)['views'].sum().sort_values('views',ascending=False)[:5]\n",
        "plt.figure(figsize=(10,8)) \n",
        "ax=sns.barplot(x='title', y='views',data=temp)\n",
        "plt.setp(ax.get_xticklabels(), rotation=65);\n",
        "plt.title('Top 5 title according to views')\n",
        "plt.xlabel('Titles')\n",
        "plt.ylabel('Views (In Millions)')\n",
        "ax.grid(False)"
      ],
      "metadata": {
        "id": "t6GMdE67YoAp"
      },
      "execution_count": null,
      "outputs": []
    },
    {
      "cell_type": "markdown",
      "source": [
        "##### 1. Why did you pick the specific chart?"
      ],
      "metadata": {
        "id": "fge-S5ZAYoAp"
      }
    },
    {
      "cell_type": "markdown",
      "source": [
        "*Barplot describes count of various features wrt target variable*"
      ],
      "metadata": {
        "id": "5dBItgRVYoAp"
      }
    },
    {
      "cell_type": "markdown",
      "source": [
        "##### 2. What is/are the insight(s) found from the chart?"
      ],
      "metadata": {
        "id": "85gYPyotYoAp"
      }
    },
    {
      "cell_type": "markdown",
      "source": [
        "*Chart describes Top titles that generate maximum views*"
      ],
      "metadata": {
        "id": "4jstXR6OYoAp"
      }
    },
    {
      "cell_type": "markdown",
      "source": [
        "##### 3. Will the gained insights help creating a positive business impact? \n",
        "Are there any insights that lead to negative growth? Justify with specific reason."
      ],
      "metadata": {
        "id": "RoGjAbkUYoAp"
      }
    },
    {
      "cell_type": "markdown",
      "source": [
        "*Chart gives insight into overall theme of the event that audience is most interested in*"
      ],
      "metadata": {
        "id": "zfJ8IqMcYoAp"
      }
    },
    {
      "cell_type": "markdown",
      "source": [
        "#### Chart - 4"
      ],
      "metadata": {
        "id": "4Of9eVA-YrdM"
      }
    },
    {
      "cell_type": "code",
      "source": [
        "# Chart - 4 visualization code\n",
        "\n",
        "# Top TED events according to views\n",
        "temp=ted_df.groupby(['Event_Category'],as_index=False)['views'].sum().sort_values('views',ascending=False)[:5]\n",
        "plt.figure(figsize=(8,6)) \n",
        "ax=sns.barplot(x='Event_Category', y='views',data=temp)\n",
        "plt.setp(ax.get_xticklabels(), rotation=50);\n",
        "plt.title('Top 5 events according to views')\n",
        "plt.xlabel('Events')\n",
        "plt.ylabel('Views (In Millions)')\n",
        "ax.grid(False)"
      ],
      "metadata": {
        "id": "irlUoxc8YrdO"
      },
      "execution_count": null,
      "outputs": []
    },
    {
      "cell_type": "markdown",
      "source": [
        "##### 1. Why did you pick the specific chart?"
      ],
      "metadata": {
        "id": "iky9q4vBYrdO"
      }
    },
    {
      "cell_type": "markdown",
      "source": [
        "*Barplot describes count of various features wrt target variable*"
      ],
      "metadata": {
        "id": "x9BTRr-yy9DK"
      }
    },
    {
      "cell_type": "markdown",
      "source": [
        "##### 2. What is/are the insight(s) found from the chart?"
      ],
      "metadata": {
        "id": "F6T5p64dYrdO"
      }
    },
    {
      "cell_type": "markdown",
      "source": [
        "*When grouped together it can be seen that , TED events happened in 2000s are the most viewed followed by TED_Other which contains various small events organised by TED*"
      ],
      "metadata": {
        "id": "Xx8WAJvtYrdO"
      }
    },
    {
      "cell_type": "markdown",
      "source": [
        "##### 3. Will the gained insights help creating a positive business impact? \n",
        "Are there any insights that lead to negative growth? Justify with specific reason."
      ],
      "metadata": {
        "id": "y-Ehk30pYrdP"
      }
    },
    {
      "cell_type": "markdown",
      "source": [
        "*Chart gives an insight into popularity of particular TED events , & which events needs to be more focus and development*"
      ],
      "metadata": {
        "id": "jLNxxz7MYrdP"
      }
    },
    {
      "cell_type": "markdown",
      "source": [
        "#### Chart - 5"
      ],
      "metadata": {
        "id": "bamQiAODYuh1"
      }
    },
    {
      "cell_type": "code",
      "source": [
        "# Chart - 5 visualization code\n",
        "\n",
        "# Popular months wrt views\n",
        "temp=ted_df.groupby(['Month'],as_index=False)['views'].sum().sort_values('views',ascending=False)\n",
        "plt.figure(figsize=(8,6)) \n",
        "ax= sns.barplot(x='Month', y='views',data=temp)\n",
        "plt.setp(ax.get_xticklabels(), rotation=50);\n",
        "plt.xlabel('Months')\n",
        "plt.ylabel('Views (In Millions)')\n",
        "ax.grid(False)"
      ],
      "metadata": {
        "id": "TIJwrbroYuh3"
      },
      "execution_count": null,
      "outputs": []
    },
    {
      "cell_type": "markdown",
      "source": [
        "##### 1. Why did you pick the specific chart?"
      ],
      "metadata": {
        "id": "QHF8YVU7Yuh3"
      }
    },
    {
      "cell_type": "markdown",
      "source": [
        "*To get a detailed insight into months with most active audiences*"
      ],
      "metadata": {
        "id": "dcxuIMRPYuh3"
      }
    },
    {
      "cell_type": "markdown",
      "source": [
        "##### 2. What is/are the insight(s) found from the chart?"
      ],
      "metadata": {
        "id": "GwzvFGzlYuh3"
      }
    },
    {
      "cell_type": "markdown",
      "source": [
        "*It can be seen that March is the most popular month & August the least popular month as far as TED events are concerned*"
      ],
      "metadata": {
        "id": "uyqkiB8YYuh3"
      }
    },
    {
      "cell_type": "markdown",
      "source": [
        "##### 3. Will the gained insights help creating a positive business impact? \n",
        "Are there any insights that lead to negative growth? Justify with specific reason."
      ],
      "metadata": {
        "id": "qYpmQ266Yuh3"
      }
    },
    {
      "cell_type": "markdown",
      "source": [
        "*Chart gives insight into the period of year when audience are more active*"
      ],
      "metadata": {
        "id": "_WtzZ_hCYuh4"
      }
    },
    {
      "cell_type": "markdown",
      "source": [
        "#### Chart - 6"
      ],
      "metadata": {
        "id": "OH-pJp9IphqM"
      }
    },
    {
      "cell_type": "code",
      "source": [
        "# Chart - 6 visualization code\n",
        "\n",
        "# Populaar Day wrt views\n",
        "temp=ted_df.groupby(['Day'],as_index=False)['views'].sum().sort_values('views',ascending=False)\n",
        "plt.figure(figsize=(8,6)) \n",
        "ax= sns.barplot(x='Day', y='views',data=temp)\n",
        "plt.setp(ax.get_xticklabels(), rotation=50);\n",
        "plt.xlabel('Day')\n",
        "plt.ylabel('Views (In Millions)')\n",
        "ax.grid(False)"
      ],
      "metadata": {
        "id": "kuRf4wtuphqN"
      },
      "execution_count": null,
      "outputs": []
    },
    {
      "cell_type": "markdown",
      "source": [
        "##### 1. Why did you pick the specific chart?"
      ],
      "metadata": {
        "id": "bbFf2-_FphqN"
      }
    },
    {
      "cell_type": "markdown",
      "source": [
        "*To get information regarding most popular day in most popular months*"
      ],
      "metadata": {
        "id": "loh7H2nzphqN"
      }
    },
    {
      "cell_type": "markdown",
      "source": [
        "##### 2. What is/are the insight(s) found from the chart?"
      ],
      "metadata": {
        "id": "_ouA3fa0phqN"
      }
    },
    {
      "cell_type": "markdown",
      "source": [
        "*While March was the most popular month , Friday is the day with most active audiences*"
      ],
      "metadata": {
        "id": "VECbqPI7phqN"
      }
    },
    {
      "cell_type": "markdown",
      "source": [
        "##### 3. Will the gained insights help creating a positive business impact? \n",
        "Are there any insights that lead to negative growth? Justify with specific reason."
      ],
      "metadata": {
        "id": "Seke61FWphqN"
      }
    },
    {
      "cell_type": "markdown",
      "source": [
        "*Chart gives insight into,When to schedule the events wrt day, year*"
      ],
      "metadata": {
        "id": "DW4_bGpfphqN"
      }
    },
    {
      "cell_type": "markdown",
      "source": [
        "#### Chart - 7"
      ],
      "metadata": {
        "id": "PIIx-8_IphqN"
      }
    },
    {
      "cell_type": "code",
      "source": [
        "# Chart - 7 visualization code\n",
        "\n",
        "# Number of Topics for each events\n",
        "temp=ted_df.groupby(['Num_of_Topics'],as_index=False)['views'].sum().sort_values('views',ascending=False)\n",
        "plt.figure(figsize=(8,6)) \n",
        "ax= sns.barplot(x='Num_of_Topics', y='views',data=temp)\n",
        "plt.setp(ax.get_xticklabels(), rotation=50);\n",
        "plt.xlabel('Num_of_Topics')\n",
        "plt.ylabel('Views (In Millions)')\n",
        "ax.grid(False)"
      ],
      "metadata": {
        "id": "lqAIGUfyphqO"
      },
      "execution_count": null,
      "outputs": []
    },
    {
      "cell_type": "markdown",
      "source": [
        "##### 1. Why did you pick the specific chart?"
      ],
      "metadata": {
        "id": "t27r6nlMphqO"
      }
    },
    {
      "cell_type": "markdown",
      "source": [
        "*To get the number of topis wrt each event*"
      ],
      "metadata": {
        "id": "iv6ro40sphqO"
      }
    },
    {
      "cell_type": "markdown",
      "source": [
        "##### 2. What is/are the insight(s) found from the chart?"
      ],
      "metadata": {
        "id": "r2jJGEOYphqO"
      }
    },
    {
      "cell_type": "markdown",
      "source": [
        "*It can be seen that maixmum views are generated when Num_of_Topics lie in the range of 4-7 , whereas views go on decreasing as Num_of_Topics go on increasing beyond that, which can be associated with the increase in time duration of an event also*"
      ],
      "metadata": {
        "id": "Po6ZPi4hphqO"
      }
    },
    {
      "cell_type": "markdown",
      "source": [
        "##### 3. Will the gained insights help creating a positive business impact? \n",
        "Are there any insights that lead to negative growth? Justify with specific reason."
      ],
      "metadata": {
        "id": "b0JNsNcRphqO"
      }
    },
    {
      "cell_type": "markdown",
      "source": [
        "*Chart gives insight into Number of topics , to schedule for each events*"
      ],
      "metadata": {
        "id": "xvSq8iUTphqO"
      }
    },
    {
      "cell_type": "markdown",
      "source": [
        "#### Chart - 8"
      ],
      "metadata": {
        "id": "BZR9WyysphqO"
      }
    },
    {
      "cell_type": "code",
      "source": [
        "# Chart - 8 visualization code\n",
        "\n",
        "# Number of available events for each event\n",
        "plt.figure(figsize=(10,5))\n",
        "sns.distplot(ted_df['Available_lang'])"
      ],
      "metadata": {
        "id": "TdPTWpAVphqO"
      },
      "execution_count": null,
      "outputs": []
    },
    {
      "cell_type": "markdown",
      "source": [
        "##### 1. Why did you pick the specific chart?"
      ],
      "metadata": {
        "id": "jj7wYXLtphqO"
      }
    },
    {
      "cell_type": "markdown",
      "source": [
        "*Distplot describes continuous variables wrt to their density*"
      ],
      "metadata": {
        "id": "Ob8u6rCTphqO"
      }
    },
    {
      "cell_type": "markdown",
      "source": [
        "##### 2. What is/are the insight(s) found from the chart?"
      ],
      "metadata": {
        "id": "eZrbJ2SmphqO"
      }
    },
    {
      "cell_type": "markdown",
      "source": [
        "*On average a TED event is available in around 25 languages , which explains its wide reach and popularity*"
      ],
      "metadata": {
        "id": "mZtgC_hjphqO"
      }
    },
    {
      "cell_type": "markdown",
      "source": [
        "##### 3. Will the gained insights help creating a positive business impact? \n",
        "Are there any insights that lead to negative growth? Justify with specific reason."
      ],
      "metadata": {
        "id": "rFu4xreNphqO"
      }
    },
    {
      "cell_type": "markdown",
      "source": [
        "*Each event should be made available in as many languages as possible*"
      ],
      "metadata": {
        "id": "ey_0qi68phqO"
      }
    },
    {
      "cell_type": "markdown",
      "source": [
        "#### Chart - 9"
      ],
      "metadata": {
        "id": "YJ55k-q6phqO"
      }
    },
    {
      "cell_type": "code",
      "source": [
        "# Chart - 9 visualization code\n",
        "\n",
        "temp=ted_df.groupby(['duration'],as_index=False)['views'].sum().sort_values('views',ascending=False)\n",
        "plt.figure(figsize=(8,6)) \n",
        "ax= plt.scatter(x='duration', y='views',data=temp)\n",
        "plt.xlabel('duration(in sec)')\n",
        "plt.ylabel('Views (In Millions)')"
      ],
      "metadata": {
        "id": "B2aS4O1ophqO"
      },
      "execution_count": null,
      "outputs": []
    },
    {
      "cell_type": "markdown",
      "source": [
        "##### 1. Why did you pick the specific chart?"
      ],
      "metadata": {
        "id": "gCFgpxoyphqP"
      }
    },
    {
      "cell_type": "markdown",
      "source": [
        "*Scatter plot describes linearity in relationship between two features*"
      ],
      "metadata": {
        "id": "TVxDimi2phqP"
      }
    },
    {
      "cell_type": "markdown",
      "source": [
        "##### 2. What is/are the insight(s) found from the chart?"
      ],
      "metadata": {
        "id": "OVtJsKN_phqQ"
      }
    },
    {
      "cell_type": "markdown",
      "source": [
        "*The data is heavily influenced by outliers , hence no strong relationship between duration and views*"
      ],
      "metadata": {
        "id": "ngGi97qjphqQ"
      }
    },
    {
      "cell_type": "markdown",
      "source": [
        "##### 3. Will the gained insights help creating a positive business impact? \n",
        "Are there any insights that lead to negative growth? Justify with specific reason."
      ],
      "metadata": {
        "id": "lssrdh5qphqQ"
      }
    },
    {
      "cell_type": "markdown",
      "source": [
        "*No insight wrt business growth*"
      ],
      "metadata": {
        "id": "tBpY5ekJphqQ"
      }
    },
    {
      "cell_type": "markdown",
      "source": [
        "#### Chart - 10"
      ],
      "metadata": {
        "id": "U2RJ9gkRphqQ"
      }
    },
    {
      "cell_type": "code",
      "source": [
        "# Chart - 10 visualization code\n",
        "\n",
        "comments_views = ted_df.groupby('comments')['views'].mean().astype(int).reset_index()\n",
        "comments_views = comments_views.sort_values(by ='views', ascending = False)\n",
        "\n",
        "comments_views.plot(x='comments',\n",
        "                 y='views',\n",
        "                 kind='scatter',\n",
        "                 figsize = (10, 6))"
      ],
      "metadata": {
        "id": "GM7a4YP4phqQ"
      },
      "execution_count": null,
      "outputs": []
    },
    {
      "cell_type": "markdown",
      "source": [
        "##### 1. Why did you pick the specific chart?"
      ],
      "metadata": {
        "id": "1M8mcRywphqQ"
      }
    },
    {
      "cell_type": "markdown",
      "source": [
        "*Scatter plot describes linearity in relationship between two features*"
      ],
      "metadata": {
        "id": "ryxiC95m5OHl"
      }
    },
    {
      "cell_type": "markdown",
      "source": [
        "##### 2. What is/are the insight(s) found from the chart?"
      ],
      "metadata": {
        "id": "tgIPom80phqQ"
      }
    },
    {
      "cell_type": "markdown",
      "source": [
        "*There is a slight relationship , but data is heavily influenced by outliers*"
      ],
      "metadata": {
        "id": "Qp13pnNzphqQ"
      }
    },
    {
      "cell_type": "markdown",
      "source": [
        "##### 3. Will the gained insights help creating a positive business impact? \n",
        "Are there any insights that lead to negative growth? Justify with specific reason."
      ],
      "metadata": {
        "id": "JMzcOPDDphqR"
      }
    },
    {
      "cell_type": "markdown",
      "source": [
        "*No insight wrt business growth*"
      ],
      "metadata": {
        "id": "R4Ka1PC2phqR"
      }
    },
    {
      "cell_type": "markdown",
      "source": [
        "#### Chart - 14 - Correlation Heatmap"
      ],
      "metadata": {
        "id": "NC_X3p0fY2L0"
      }
    },
    {
      "cell_type": "code",
      "source": [
        "# Correlation Heatmap visualization code\n",
        "\n",
        "plt.figure(figsize = (10,9))\n",
        "correlation = ted_df.corr()\n",
        "sns.heatmap(abs(correlation), annot=True, cmap = 'flare')"
      ],
      "metadata": {
        "id": "xyC9zolEZNRQ"
      },
      "execution_count": null,
      "outputs": []
    },
    {
      "cell_type": "markdown",
      "source": [
        "##### 1. Why did you pick the specific chart?"
      ],
      "metadata": {
        "id": "UV0SzAkaZNRQ"
      }
    },
    {
      "cell_type": "markdown",
      "source": [
        "*Heatmap describes Multicollinearity between all the features in the dataset*"
      ],
      "metadata": {
        "id": "DVPuT8LYZNRQ"
      }
    },
    {
      "cell_type": "markdown",
      "source": [
        "##### 2. What is/are the insight(s) found from the chart?"
      ],
      "metadata": {
        "id": "YPEH6qLeZNRQ"
      }
    },
    {
      "cell_type": "markdown",
      "source": [
        "*No significant collinearity between any two features, except Time_since_published V/s year & Speaker_avg_views V/s views. But they are important wrt model implementation . Hence no changes made*"
      ],
      "metadata": {
        "id": "bfSqtnDqZNRR"
      }
    },
    {
      "cell_type": "markdown",
      "source": [
        "#### Chart - 15 - Pair Plot "
      ],
      "metadata": {
        "id": "q29F0dvdveiT"
      }
    },
    {
      "cell_type": "code",
      "source": [
        "# Pair Plot visualization code\n",
        "\n",
        "sns.pairplot(ted_df[1:])"
      ],
      "metadata": {
        "id": "o58-TEIhveiU"
      },
      "execution_count": null,
      "outputs": []
    },
    {
      "cell_type": "markdown",
      "source": [
        "##### 1. Why did you pick the specific chart?"
      ],
      "metadata": {
        "id": "EXh0U9oCveiU"
      }
    },
    {
      "cell_type": "markdown",
      "source": [
        "*To understand relation between all features in the dataset*"
      ],
      "metadata": {
        "id": "eMmPjTByveiU"
      }
    },
    {
      "cell_type": "markdown",
      "source": [
        "##### 2. What is/are the insight(s) found from the chart?"
      ],
      "metadata": {
        "id": "22aHeOlLveiV"
      }
    },
    {
      "cell_type": "markdown",
      "source": [
        "*There is no significant relation between any two features, which indicates No Multicollinearity*"
      ],
      "metadata": {
        "id": "uPQ8RGwHveiV"
      }
    },
    {
      "cell_type": "markdown",
      "source": [
        "## ***5. Hypothesis Testing***"
      ],
      "metadata": {
        "id": "g-ATYxFrGrvw"
      }
    },
    {
      "cell_type": "markdown",
      "source": [
        "### Based on your chart experiments, define three hypothetical statements from the dataset. In the next three questions, perform hypothesis testing to obtain final conclusion about the statements through your code and statistical testing."
      ],
      "metadata": {
        "id": "Yfr_Vlr8HBkt"
      }
    },
    {
      "cell_type": "markdown",
      "source": [],
      "metadata": {
        "id": "-7MS06SUHkB-"
      }
    },
    {
      "cell_type": "markdown",
      "source": [
        "### Hypothetical Statement - 1"
      ],
      "metadata": {
        "id": "8yEUt7NnHlrM"
      }
    },
    {
      "cell_type": "markdown",
      "source": [
        "#### 1. State Your research hypothesis as a null hypothesis and alternate hypothesis."
      ],
      "metadata": {
        "id": "tEA2Xm5dHt1r"
      }
    },
    {
      "cell_type": "markdown",
      "source": [
        "Answer Here."
      ],
      "metadata": {
        "id": "HI9ZP0laH0D-"
      }
    },
    {
      "cell_type": "markdown",
      "source": [
        "#### 2. Perform an appropriate statistical test."
      ],
      "metadata": {
        "id": "I79__PHVH19G"
      }
    },
    {
      "cell_type": "code",
      "source": [
        "# Perform Statistical Test to obtain P-Value"
      ],
      "metadata": {
        "id": "oZrfquKtyian"
      },
      "execution_count": null,
      "outputs": []
    },
    {
      "cell_type": "markdown",
      "source": [
        "##### Which statistical test have you done to obtain P-Value?"
      ],
      "metadata": {
        "id": "Ou-I18pAyIpj"
      }
    },
    {
      "cell_type": "markdown",
      "source": [
        "Answer Here."
      ],
      "metadata": {
        "id": "s2U0kk00ygSB"
      }
    },
    {
      "cell_type": "markdown",
      "source": [
        "##### Why did you choose the specific statistical test?"
      ],
      "metadata": {
        "id": "fF3858GYyt-u"
      }
    },
    {
      "cell_type": "markdown",
      "source": [
        "Answer Here."
      ],
      "metadata": {
        "id": "HO4K0gP5y3B4"
      }
    },
    {
      "cell_type": "markdown",
      "source": [
        "### Hypothetical Statement - 2"
      ],
      "metadata": {
        "id": "4_0_7-oCpUZd"
      }
    },
    {
      "cell_type": "markdown",
      "source": [
        "#### 1. State Your research hypothesis as a null hypothesis and alternate hypothesis."
      ],
      "metadata": {
        "id": "hwyV_J3ipUZe"
      }
    },
    {
      "cell_type": "markdown",
      "source": [
        "Answer Here."
      ],
      "metadata": {
        "id": "FnpLGJ-4pUZe"
      }
    },
    {
      "cell_type": "markdown",
      "source": [
        "#### 2. Perform an appropriate statistical test."
      ],
      "metadata": {
        "id": "3yB-zSqbpUZe"
      }
    },
    {
      "cell_type": "code",
      "source": [
        "# Perform Statistical Test to obtain P-Value"
      ],
      "metadata": {
        "id": "sWxdNTXNpUZe"
      },
      "execution_count": null,
      "outputs": []
    },
    {
      "cell_type": "markdown",
      "source": [
        "##### Which statistical test have you done to obtain P-Value?"
      ],
      "metadata": {
        "id": "dEUvejAfpUZe"
      }
    },
    {
      "cell_type": "markdown",
      "source": [
        "Answer Here."
      ],
      "metadata": {
        "id": "oLDrPz7HpUZf"
      }
    },
    {
      "cell_type": "markdown",
      "source": [
        "##### Why did you choose the specific statistical test?"
      ],
      "metadata": {
        "id": "Fd15vwWVpUZf"
      }
    },
    {
      "cell_type": "markdown",
      "source": [
        "Answer Here."
      ],
      "metadata": {
        "id": "4xOGYyiBpUZf"
      }
    },
    {
      "cell_type": "markdown",
      "source": [
        "### Hypothetical Statement - 3"
      ],
      "metadata": {
        "id": "bn_IUdTipZyH"
      }
    },
    {
      "cell_type": "markdown",
      "source": [
        "#### 1. State Your research hypothesis as a null hypothesis and alternate hypothesis."
      ],
      "metadata": {
        "id": "49K5P_iCpZyH"
      }
    },
    {
      "cell_type": "markdown",
      "source": [
        "Answer Here."
      ],
      "metadata": {
        "id": "7gWI5rT9pZyH"
      }
    },
    {
      "cell_type": "markdown",
      "source": [
        "#### 2. Perform an appropriate statistical test."
      ],
      "metadata": {
        "id": "Nff-vKELpZyI"
      }
    },
    {
      "cell_type": "code",
      "source": [
        "# Perform Statistical Test to obtain P-Value"
      ],
      "metadata": {
        "id": "s6AnJQjtpZyI"
      },
      "execution_count": null,
      "outputs": []
    },
    {
      "cell_type": "markdown",
      "source": [
        "##### Which statistical test have you done to obtain P-Value?"
      ],
      "metadata": {
        "id": "kLW572S8pZyI"
      }
    },
    {
      "cell_type": "markdown",
      "source": [
        "Answer Here."
      ],
      "metadata": {
        "id": "ytWJ8v15pZyI"
      }
    },
    {
      "cell_type": "markdown",
      "source": [
        "##### Why did you choose the specific statistical test?"
      ],
      "metadata": {
        "id": "dWbDXHzopZyI"
      }
    },
    {
      "cell_type": "markdown",
      "source": [
        "Answer Here."
      ],
      "metadata": {
        "id": "M99G98V6pZyI"
      }
    },
    {
      "cell_type": "markdown",
      "source": [
        "## ***6. Feature Engineering & Data Pre-processing***"
      ],
      "metadata": {
        "id": "yLjJCtPM0KBk"
      }
    },
    {
      "cell_type": "markdown",
      "source": [
        "### 1. Handling Missing Values"
      ],
      "metadata": {
        "id": "xiyOF9F70UgQ"
      }
    },
    {
      "cell_type": "code",
      "source": [
        "# Handling Missing Values & Missing Value Imputation\n",
        "\n",
        "ted_df['occupations'].fillna('NA', inplace=True)\n",
        "ted_df['about_speakers'].fillna( 'NA' , inplace =True)\n",
        "ted_df['comments'].fillna(0, inplace =True)\n",
        "ted_df['all_speakers'].fillna( 'NA' , inplace =True)"
      ],
      "metadata": {
        "id": "iRsAHk1K0fpS"
      },
      "execution_count": null,
      "outputs": []
    },
    {
      "cell_type": "markdown",
      "source": [
        "#### What all missing value imputation techniques have you used and why did you use those techniques?"
      ],
      "metadata": {
        "id": "7wuGOrhz0itI"
      }
    },
    {
      "cell_type": "markdown",
      "source": [
        "* *Object type data-types were replaced with 'NA'*\n",
        "* *Integer data-types were replaced with '0'*"
      ],
      "metadata": {
        "id": "1ixusLtI0pqI"
      }
    },
    {
      "cell_type": "markdown",
      "source": [
        "### 2. Handling Outliers"
      ],
      "metadata": {
        "id": "id1riN9m0vUs"
      }
    },
    {
      "cell_type": "code",
      "source": [
        "# Handling Outliers & Outlier treatments"
      ],
      "metadata": {
        "id": "M6w2CzZf04JK"
      },
      "execution_count": null,
      "outputs": []
    },
    {
      "cell_type": "markdown",
      "source": [
        "* Duration"
      ],
      "metadata": {
        "id": "gXFTcUxFkFRa"
      }
    },
    {
      "cell_type": "code",
      "source": [
        "sns.boxplot(ted_df['duration'], data= ted_df)"
      ],
      "metadata": {
        "id": "TXAxB61xkG5o"
      },
      "execution_count": null,
      "outputs": []
    },
    {
      "cell_type": "code",
      "source": [
        "# Percentiles\n",
        "percentile_q1 = np.percentile(ted_df['duration'],25)\n",
        "print(percentile_q1)\n",
        "percentile_q2 = np.percentile(ted_df['duration'],50)\n",
        "print(percentile_q2)\n",
        "percentile_q3 = np.percentile(ted_df['duration'],75)\n",
        "print(percentile_q3)\n"
      ],
      "metadata": {
        "id": "dqJ1C2XpkKYx"
      },
      "execution_count": null,
      "outputs": []
    },
    {
      "cell_type": "code",
      "source": [
        "# IQ range\n",
        "iqr_duration =  percentile_q3 - percentile_q1\n",
        "print(iqr_duration)"
      ],
      "metadata": {
        "id": "8M_qqzbskND9"
      },
      "execution_count": null,
      "outputs": []
    },
    {
      "cell_type": "code",
      "source": [
        "ted_df['duration']= ted_df['duration'].mask(ted_df['duration']>(ted_df['duration'].quantile(0.75)+1.5* iqr_duration), ted_df['duration'].mean())"
      ],
      "metadata": {
        "id": "DKXciwHukQu8"
      },
      "execution_count": null,
      "outputs": []
    },
    {
      "cell_type": "code",
      "source": [
        "sns.boxplot(ted_df['duration'], data= ted_df)"
      ],
      "metadata": {
        "id": "t7fEnJLqkS-S"
      },
      "execution_count": null,
      "outputs": []
    },
    {
      "cell_type": "markdown",
      "source": [
        "*Comments"
      ],
      "metadata": {
        "id": "-B74zRBdkUdq"
      }
    },
    {
      "cell_type": "code",
      "source": [
        "sns.boxplot(ted_df['comments'], data= ted_df)"
      ],
      "metadata": {
        "id": "YS3Wsxn3kgxe"
      },
      "execution_count": null,
      "outputs": []
    },
    {
      "cell_type": "code",
      "source": [
        "# Comments\n",
        "iqr_comments = np.percentile(ted_df['comments'], 75) - np.percentile(ted_df['comments'],25)\n",
        "print(iqr_comments)"
      ],
      "metadata": {
        "id": "mYFL8_KukhGt"
      },
      "execution_count": null,
      "outputs": []
    },
    {
      "cell_type": "code",
      "source": [
        "ted_df['comments']= ted_df['comments'].mask(ted_df['comments']>(ted_df['comments'].quantile(0.75)+1.5*iqr_comments), ted_df['comments'].mean())"
      ],
      "metadata": {
        "id": "sinS_OgFkmIk"
      },
      "execution_count": null,
      "outputs": []
    },
    {
      "cell_type": "code",
      "source": [
        "sns.boxplot(ted_df['comments'], data= ted_df)"
      ],
      "metadata": {
        "id": "L_3juL1QkoAl"
      },
      "execution_count": null,
      "outputs": []
    },
    {
      "cell_type": "markdown",
      "source": [
        "* Available languages"
      ],
      "metadata": {
        "id": "JY3aYThOkpoq"
      }
    },
    {
      "cell_type": "code",
      "source": [
        "sns.boxplot(ted_df['Available_lang'], data=ted_df)"
      ],
      "metadata": {
        "id": "AC5F7OsdktAD"
      },
      "execution_count": null,
      "outputs": []
    },
    {
      "cell_type": "code",
      "source": [
        "iqr_lang = np.percentile(ted_df['Available_lang'], 75) - np.percentile(ted_df['Available_lang'],25)\n",
        "print(iqr_lang)"
      ],
      "metadata": {
        "id": "qyG_dwZkkvnp"
      },
      "execution_count": null,
      "outputs": []
    },
    {
      "cell_type": "code",
      "source": [
        "ted_df['Available_lang']= ted_df['Available_lang'].mask(ted_df['Available_lang']>(ted_df['Available_lang'].quantile(0.75)+1.5* iqr_lang), ted_df['Available_lang'].mean())"
      ],
      "metadata": {
        "id": "lsuDz6A7kx5c"
      },
      "execution_count": null,
      "outputs": []
    },
    {
      "cell_type": "code",
      "source": [
        "sns.boxplot(ted_df['Available_lang'], data=ted_df)"
      ],
      "metadata": {
        "id": "bi4rTS8kk0r9"
      },
      "execution_count": null,
      "outputs": []
    },
    {
      "cell_type": "markdown",
      "source": [
        "##### What all outlier treatment techniques have you used and why did you use those techniques?"
      ],
      "metadata": {
        "id": "578E2V7j08f6"
      }
    },
    {
      "cell_type": "markdown",
      "source": [
        "* *Inter-quartile range (IQR) method was used for treatment of outliers. Since,it shows how the data is distribubted around the median* "
      ],
      "metadata": {
        "id": "uGZz5OrT1HH-"
      }
    },
    {
      "cell_type": "markdown",
      "source": [
        "### 3. Categorical Encoding"
      ],
      "metadata": {
        "id": "89xtkJwZ18nB"
      }
    },
    {
      "cell_type": "code",
      "source": [
        "# Encode your categorical columns\n",
        "\n",
        "ted_df.columns"
      ],
      "metadata": {
        "id": "21JmIYMG2hEo"
      },
      "execution_count": null,
      "outputs": []
    },
    {
      "cell_type": "code",
      "source": [
        "pair_df = [ted_df[['duration', 'comments', 'Available_lang', 'Num_of_Topics', 'daily_views', 'Speaker_avg_views', 'time_since_published', ]], \n",
        "              pd.get_dummies(ted_df[['Day','year', 'Month', 'day_num', 'Event_Category']], drop_first =False),\n",
        "              ted_df['views'] ]\n",
        "one_hot_df = pd.concat(pair_df, axis=1)\n",
        "one_hot_df.head(2)"
      ],
      "metadata": {
        "id": "wNS9U5lElXZK"
      },
      "execution_count": null,
      "outputs": []
    },
    {
      "cell_type": "markdown",
      "source": [
        "#### What all categorical encoding techniques have you used & why did you use those techniques?"
      ],
      "metadata": {
        "id": "67NQN5KX2AMe"
      }
    },
    {
      "cell_type": "markdown",
      "source": [
        "*One-Hot Encoding Method was used for categorical encoding. Since, the categorical features contained many categories*"
      ],
      "metadata": {
        "id": "UDaue5h32n_G"
      }
    },
    {
      "cell_type": "markdown",
      "source": [
        "### 4. Textual Data Preprocessing \n",
        "(It's mandatory for textual dataset i.e., NLP, Sentiment Analysis, Text Clustering etc.)"
      ],
      "metadata": {
        "id": "Iwf50b-R2tYG"
      }
    },
    {
      "cell_type": "markdown",
      "source": [
        "#### 1. Expand Contraction"
      ],
      "metadata": {
        "id": "GMQiZwjn3iu7"
      }
    },
    {
      "cell_type": "code",
      "source": [
        "# Expand Contraction"
      ],
      "metadata": {
        "id": "PTouz10C3oNN"
      },
      "execution_count": null,
      "outputs": []
    },
    {
      "cell_type": "markdown",
      "source": [
        "#### 2. Lower Casing"
      ],
      "metadata": {
        "id": "WVIkgGqN3qsr"
      }
    },
    {
      "cell_type": "code",
      "source": [
        "# Lower Casing"
      ],
      "metadata": {
        "id": "88JnJ1jN3w7j"
      },
      "execution_count": null,
      "outputs": []
    },
    {
      "cell_type": "markdown",
      "source": [
        "#### 3. Removing Punctuations"
      ],
      "metadata": {
        "id": "XkPnILGE3zoT"
      }
    },
    {
      "cell_type": "code",
      "source": [
        "# Remove Punctuations"
      ],
      "metadata": {
        "id": "vqbBqNaA33c0"
      },
      "execution_count": null,
      "outputs": []
    },
    {
      "cell_type": "markdown",
      "source": [
        "#### 4. Removing URLs & Removing words and digits contain digits."
      ],
      "metadata": {
        "id": "Hlsf0x5436Go"
      }
    },
    {
      "cell_type": "code",
      "source": [
        "# Remove URLs & Remove words and digits contain digits"
      ],
      "metadata": {
        "id": "2sxKgKxu4Ip3"
      },
      "execution_count": null,
      "outputs": []
    },
    {
      "cell_type": "markdown",
      "source": [
        "#### 5. Removing Stopwords & Removing White spaces"
      ],
      "metadata": {
        "id": "mT9DMSJo4nBL"
      }
    },
    {
      "cell_type": "code",
      "source": [
        "# Remove Stopwords"
      ],
      "metadata": {
        "id": "T2LSJh154s8W"
      },
      "execution_count": null,
      "outputs": []
    },
    {
      "cell_type": "code",
      "source": [
        "# Remove White spaces"
      ],
      "metadata": {
        "id": "EgLJGffy4vm0"
      },
      "execution_count": null,
      "outputs": []
    },
    {
      "cell_type": "markdown",
      "source": [
        "#### 6. Rephrase Text"
      ],
      "metadata": {
        "id": "c49ITxTc407N"
      }
    },
    {
      "cell_type": "code",
      "source": [
        "# Rephrase Text"
      ],
      "metadata": {
        "id": "foqY80Qu48N2"
      },
      "execution_count": null,
      "outputs": []
    },
    {
      "cell_type": "markdown",
      "source": [
        "#### 7. Tokenization"
      ],
      "metadata": {
        "id": "OeJFEK0N496M"
      }
    },
    {
      "cell_type": "code",
      "source": [
        "# Tokenization"
      ],
      "metadata": {
        "id": "ijx1rUOS5CUU"
      },
      "execution_count": null,
      "outputs": []
    },
    {
      "cell_type": "markdown",
      "source": [
        "#### 8. Text Normalization"
      ],
      "metadata": {
        "id": "9ExmJH0g5HBk"
      }
    },
    {
      "cell_type": "code",
      "source": [
        "# Normalizing Text (i.e., Stemming, Lemmatization etc.)"
      ],
      "metadata": {
        "id": "AIJ1a-Zc5PY8"
      },
      "execution_count": null,
      "outputs": []
    },
    {
      "cell_type": "markdown",
      "source": [
        "##### Which text normalization technique have you used and why?"
      ],
      "metadata": {
        "id": "cJNqERVU536h"
      }
    },
    {
      "cell_type": "markdown",
      "source": [
        "Answer Here."
      ],
      "metadata": {
        "id": "Z9jKVxE06BC1"
      }
    },
    {
      "cell_type": "markdown",
      "source": [
        "#### 9. Part of speech tagging"
      ],
      "metadata": {
        "id": "k5UmGsbsOxih"
      }
    },
    {
      "cell_type": "code",
      "source": [
        "# POS Taging"
      ],
      "metadata": {
        "id": "btT3ZJBAO6Ik"
      },
      "execution_count": null,
      "outputs": []
    },
    {
      "cell_type": "markdown",
      "source": [
        "#### 10. Text Vectorization"
      ],
      "metadata": {
        "id": "T0VqWOYE6DLQ"
      }
    },
    {
      "cell_type": "code",
      "source": [
        "# Vectorizing Text"
      ],
      "metadata": {
        "id": "yBRtdhth6JDE"
      },
      "execution_count": null,
      "outputs": []
    },
    {
      "cell_type": "markdown",
      "source": [
        "##### Which text vectorization technique have you used and why?"
      ],
      "metadata": {
        "id": "qBMux9mC6MCf"
      }
    },
    {
      "cell_type": "markdown",
      "source": [
        "Answer Here."
      ],
      "metadata": {
        "id": "su2EnbCh6UKQ"
      }
    },
    {
      "cell_type": "markdown",
      "source": [
        "### 4. Feature Manipulation & Selection"
      ],
      "metadata": {
        "id": "-oLEiFgy-5Pf"
      }
    },
    {
      "cell_type": "markdown",
      "source": [
        "#### 1. Feature Manipulation"
      ],
      "metadata": {
        "id": "C74aWNz2AliB"
      }
    },
    {
      "cell_type": "code",
      "source": [
        "# Manipulate Features to minimize feature correlation and create new features"
      ],
      "metadata": {
        "id": "h1qC4yhBApWC"
      },
      "execution_count": null,
      "outputs": []
    },
    {
      "cell_type": "markdown",
      "source": [
        "#### 2. Feature Selection"
      ],
      "metadata": {
        "id": "2DejudWSA-a0"
      }
    },
    {
      "cell_type": "code",
      "source": [
        "# Select your features wisely to avoid overfitting\n",
        "\n",
        "one_hot_df.dropna(inplace=True)\n",
        "one_hot_df.replace([np.inf, -np.inf], 1, inplace=True)"
      ],
      "metadata": {
        "id": "YLhe8UmaBCEE"
      },
      "execution_count": null,
      "outputs": []
    },
    {
      "cell_type": "code",
      "source": [
        "features = [i for i in one_hot_df.columns if i not in ['views']]        # dataset for ML model"
      ],
      "metadata": {
        "id": "7Khs3shZnCe8"
      },
      "execution_count": null,
      "outputs": []
    },
    {
      "cell_type": "code",
      "source": [
        "len(features)"
      ],
      "metadata": {
        "id": "BPazRPIpnDrT"
      },
      "execution_count": null,
      "outputs": []
    },
    {
      "cell_type": "code",
      "source": [
        "# sorting data \n",
        "X = one_hot_df[features].apply(zscore)\n",
        "y = (one_hot_df['views']).replace([np.inf, -np.inf], 0)"
      ],
      "metadata": {
        "id": "KVvZhNsXnJat"
      },
      "execution_count": null,
      "outputs": []
    },
    {
      "cell_type": "code",
      "source": [
        "X.shape,y.shape"
      ],
      "metadata": {
        "id": "l5_Jj5IpnM8D"
      },
      "execution_count": null,
      "outputs": []
    },
    {
      "cell_type": "markdown",
      "source": [
        "##### What all feature selection methods have you used  and why?"
      ],
      "metadata": {
        "id": "pEMng2IbBLp7"
      }
    },
    {
      "cell_type": "markdown",
      "source": [
        "Answer Here."
      ],
      "metadata": {
        "id": "rb2Lh6Z8BgGs"
      }
    },
    {
      "cell_type": "markdown",
      "source": [
        "##### Which all features you found important and why?"
      ],
      "metadata": {
        "id": "rAdphbQ9Bhjc"
      }
    },
    {
      "cell_type": "markdown",
      "source": [
        "Answer Here."
      ],
      "metadata": {
        "id": "fGgaEstsBnaf"
      }
    },
    {
      "cell_type": "markdown",
      "source": [
        "### 5. Data Transformation"
      ],
      "metadata": {
        "id": "TNVZ9zx19K6k"
      }
    },
    {
      "cell_type": "markdown",
      "source": [
        "#### Do you think that your data needs to be transformed? If yes, which transformation have you used. Explain Why?"
      ],
      "metadata": {
        "id": "nqoHp30x9hH9"
      }
    },
    {
      "cell_type": "code",
      "source": [
        "# Transform Your data"
      ],
      "metadata": {
        "id": "I6quWQ1T9rtH"
      },
      "execution_count": null,
      "outputs": []
    },
    {
      "cell_type": "markdown",
      "source": [
        "### 6. Data Scaling"
      ],
      "metadata": {
        "id": "rMDnDkt2B6du"
      }
    },
    {
      "cell_type": "code",
      "source": [
        "# Scaling your data\n",
        "\n",
        "scaler = MinMaxScaler()\n",
        "scaler.fit(X)\n",
        "scaled_features = scaler.transform(X)"
      ],
      "metadata": {
        "id": "dL9LWpySC6x_"
      },
      "execution_count": null,
      "outputs": []
    },
    {
      "cell_type": "markdown",
      "source": [
        "##### Which method have you used to scale you data and why?"
      ],
      "metadata": {
        "id": "yiiVWRdJDDil"
      }
    },
    {
      "cell_type": "markdown",
      "source": [
        "*MinMaxScaler method is used for scaling the data in the range [0,1]. It preserves the shape of original data and dosen't change the information embedded in the original data*"
      ],
      "metadata": {
        "id": "bMwST4pU1bqF"
      }
    },
    {
      "cell_type": "markdown",
      "source": [
        "### 7. Dimesionality Reduction"
      ],
      "metadata": {
        "id": "1UUpS68QDMuG"
      }
    },
    {
      "cell_type": "markdown",
      "source": [
        "##### Do you think that dimensionality reduction is needed? Explain Why?"
      ],
      "metadata": {
        "id": "kexQrXU-DjzY"
      }
    },
    {
      "cell_type": "markdown",
      "source": [
        "Answer Here."
      ],
      "metadata": {
        "id": "GGRlBsSGDtTQ"
      }
    },
    {
      "cell_type": "code",
      "source": [
        "# DImensionality Reduction (If needed)"
      ],
      "metadata": {
        "id": "kQfvxBBHDvCa"
      },
      "execution_count": null,
      "outputs": []
    },
    {
      "cell_type": "markdown",
      "source": [
        "##### Which dimensionality reduction technique have you used and why? (If dimensionality reduction done on dataset.)"
      ],
      "metadata": {
        "id": "T5CmagL3EC8N"
      }
    },
    {
      "cell_type": "markdown",
      "source": [
        "Answer Here."
      ],
      "metadata": {
        "id": "ZKr75IDuEM7t"
      }
    },
    {
      "cell_type": "markdown",
      "source": [
        "### 8. Data Splitting"
      ],
      "metadata": {
        "id": "BhH2vgX9EjGr"
      }
    },
    {
      "cell_type": "code",
      "source": [
        "# Split your data to train and test. Choose Splitting ratio wisely.\n",
        "\n",
        "X_train, X_test, y_train, y_test = train_test_split( X, y , test_size = 0.3, random_state = 0) \n",
        "print(X_train.shape)\n",
        "print(X_test.shape)"
      ],
      "metadata": {
        "id": "0CTyd2UwEyNM"
      },
      "execution_count": null,
      "outputs": []
    },
    {
      "cell_type": "markdown",
      "source": [
        "##### What data splitting ratio have you used and why? "
      ],
      "metadata": {
        "id": "qjKvONjwE8ra"
      }
    },
    {
      "cell_type": "markdown",
      "source": [
        "* *Splitting ratio = 0.3 , since increasing the test dataset any further,descreased the test score, sometimes causing the model to overfit*\n",
        "* *Also, descreasing the splitting ratio caused some models to underfit* "
      ],
      "metadata": {
        "id": "Y2lJ8cobFDb_"
      }
    },
    {
      "cell_type": "markdown",
      "source": [
        "### 9. Handling Imbalanced Dataset"
      ],
      "metadata": {
        "id": "P1XJ9OREExlT"
      }
    },
    {
      "cell_type": "markdown",
      "source": [
        "##### Do you think the dataset is imbalanced? Explain Why."
      ],
      "metadata": {
        "id": "VFOzZv6IFROw"
      }
    },
    {
      "cell_type": "markdown",
      "source": [
        "Answer Here."
      ],
      "metadata": {
        "id": "GeKDIv7pFgcC"
      }
    },
    {
      "cell_type": "code",
      "source": [
        "# Handling Imbalanced Dataset (If needed)"
      ],
      "metadata": {
        "id": "nQsRhhZLFiDs"
      },
      "execution_count": null,
      "outputs": []
    },
    {
      "cell_type": "markdown",
      "source": [
        "##### What technique did you use to handle the imbalance dataset and why? (If needed to be balanced)"
      ],
      "metadata": {
        "id": "TIqpNgepFxVj"
      }
    },
    {
      "cell_type": "markdown",
      "source": [
        "Answer Here."
      ],
      "metadata": {
        "id": "qbet1HwdGDTz"
      }
    },
    {
      "cell_type": "markdown",
      "source": [
        "## ***7. ML Model Implementation***"
      ],
      "metadata": {
        "id": "VfCC591jGiD4"
      }
    },
    {
      "cell_type": "markdown",
      "source": [
        "### ML Model - 1 : Linear Regression"
      ],
      "metadata": {
        "id": "OB4l2ZhMeS1U"
      }
    },
    {
      "cell_type": "markdown",
      "source": [
        "* **Linear Regression**"
      ],
      "metadata": {
        "id": "p5fQo57coOI0"
      }
    },
    {
      "cell_type": "code",
      "source": [
        "# Linear Regression\n",
        "\n",
        "# Instantiating Linear Model\n",
        "lr = LinearRegression()\n",
        "# Fit the Algorithm\n",
        "lr.fit(X_train, y_train)\n"
      ],
      "metadata": {
        "id": "7ebyywQieS1U"
      },
      "execution_count": null,
      "outputs": []
    },
    {
      "cell_type": "code",
      "source": [
        "print(\"Training set score: {:.2f}\".format(lr.score(X_train, y_train)))\n",
        "print(\"Test set score: {:.2f}\".format(lr.score(X_test, y_test)))"
      ],
      "metadata": {
        "id": "HJctDXFwoVQC"
      },
      "execution_count": null,
      "outputs": []
    },
    {
      "cell_type": "code",
      "source": [
        "lr.coef_"
      ],
      "metadata": {
        "id": "smGr3UeJoZh7"
      },
      "execution_count": null,
      "outputs": []
    },
    {
      "cell_type": "code",
      "source": [
        "y_pred = lr.predict(X_test)"
      ],
      "metadata": {
        "id": "rzCqHdNkobsP"
      },
      "execution_count": null,
      "outputs": []
    },
    {
      "cell_type": "markdown",
      "source": [
        "#### 1. Explain the ML Model used and it's performance using Evaluation metric Score Chart."
      ],
      "metadata": {
        "id": "ArJBuiUVfxKd"
      }
    },
    {
      "cell_type": "code",
      "source": [
        "# Visualizing evaluation Metric Score chart\n",
        "# Evaluation Metrics\n",
        "\n",
        "MAE= mean_absolute_error((y_test),(y_pred))\n",
        "print(\"MAE :\" ,MAE)\n",
        "\n",
        "MSE  = mean_squared_error((y_test),(y_pred))\n",
        "print(\"MSE :\" , MSE)\n",
        "\n",
        "RMSE = np.sqrt(MSE)\n",
        "print(\"RMSE :\" ,RMSE)\n",
        "\n",
        "r2 = r2_score((y_test), (y_pred))\n",
        "print(\"R2 :\" ,r2)\n",
        "\n",
        "n= X_test.shape[0]\n",
        "k= X_test.shape[1]\n",
        "adj_r2_score = 1 - ((1-r2)*(n-1)/(n-k-1))\n",
        "print(\"Adjusted R2 :\", adj_r2_score)"
      ],
      "metadata": {
        "id": "rqD5ZohzfxKe"
      },
      "execution_count": null,
      "outputs": []
    },
    {
      "cell_type": "markdown",
      "source": [
        "#### 2. Cross-validation & Hyperparameter tuning"
      ],
      "metadata": {
        "id": "4qY1EAkEfxKe"
      }
    },
    {
      "cell_type": "code",
      "source": [
        "# Cross validation\n",
        "lasso = Lasso()\n",
        "parameters = {'alpha': [1e-15,1e-13,1e-10,1e-8,1e-5,1e-4,1e-3,1e-2,1e-1,1,5,10,20,30,40,45,50,55,60,100]}\n",
        "lasso_regressor = GridSearchCV(lasso, parameters, scoring='neg_mean_squared_error', cv=4)\n",
        "lasso_regressor.fit(X_train, y_train)"
      ],
      "metadata": {
        "id": "JGqyC9Zqpist"
      },
      "execution_count": null,
      "outputs": []
    },
    {
      "cell_type": "code",
      "source": [
        "print(\"The best fit alpha value is found out to be :\" ,lasso_regressor.best_params_)\n",
        "print(\"\\nUsing \",lasso_regressor.best_params_, \" the negative mean squared error is: \", lasso_regressor.best_score_)"
      ],
      "metadata": {
        "id": "t8aBTdZoppBE"
      },
      "execution_count": null,
      "outputs": []
    },
    {
      "cell_type": "code",
      "source": [
        "y_pred_lasso = lasso_regressor.predict(X_test)"
      ],
      "metadata": {
        "id": "u6v94XSTprld"
      },
      "execution_count": null,
      "outputs": []
    },
    {
      "cell_type": "code",
      "source": [
        "MSE  = mean_squared_error((y_test), (y_pred_lasso))\n",
        "print(\"MSE :\" , MSE)\n",
        "\n",
        "MAE=mean_absolute_error((y_test),(y_pred_lasso))\n",
        "print(\"MAE :\" ,MAE)\n",
        "\n",
        "RMSE = np.sqrt(MSE)\n",
        "print(\"RMSE :\" ,RMSE)\n",
        "\n",
        "r2 = r2_score((y_test),(y_pred_lasso))\n",
        "print(\"R2 :\" ,r2)\n",
        "\n",
        "n= X_test.shape[0]\n",
        "k= X_test.shape[1]\n",
        "adj_r2_score = 1 - ((1-r2)*(n-1)/(n-k-1))\n",
        "print(\"Adjusted R2 :\", adj_r2_score)"
      ],
      "metadata": {
        "id": "BrbhkRQZpsM9"
      },
      "execution_count": null,
      "outputs": []
    },
    {
      "cell_type": "markdown",
      "source": [
        "* Ridge (L1) Regularization"
      ],
      "metadata": {
        "id": "ynfJDJRlpYlC"
      }
    },
    {
      "cell_type": "code",
      "source": [
        "ridge = Ridge(alpha=0.05).fit(X_train, y_train)      # 0..5 gives the least MSE and max r2\n",
        "print(\"Training set score: {:.2f}\".format(ridge.score(X_train, y_train)))\n",
        "print(\"Test set score: {:.2f}\".format(ridge.score(X_test, y_test)))\n"
      ],
      "metadata": {
        "id": "QM2SnURXqKzl"
      },
      "execution_count": null,
      "outputs": []
    },
    {
      "cell_type": "code",
      "source": [
        "y_pred_r = ridge.predict(X_test)"
      ],
      "metadata": {
        "id": "-rDmws7TqLsV"
      },
      "execution_count": null,
      "outputs": []
    },
    {
      "cell_type": "code",
      "source": [
        "MSE  = mean_squared_error((y_test), (y_pred_r))\n",
        "print(\"MSE :\" , MSE)\n",
        "\n",
        "MAE=mean_absolute_error((y_test), (y_pred_r))\n",
        "print(\"MAE :\" ,MAE)\n",
        "\n",
        "RMSE = np.sqrt(MSE)\n",
        "print(\"RMSE :\" ,RMSE)\n",
        "\n",
        "r2 = r2_score((y_test), (y_pred_r))\n",
        "print(\"R2 :\" ,r2)\n",
        "\n",
        "n= X_test.shape[0]\n",
        "k= X_test.shape[1]\n",
        "adj_r2_score = 1 - ((1-r2)*(n-1)/(n-k-1))\n",
        "print(\"Adjusted R2 :\", adj_r2_score)"
      ],
      "metadata": {
        "id": "bmM88ty5qQoa"
      },
      "execution_count": null,
      "outputs": []
    },
    {
      "cell_type": "code",
      "source": [
        "# Actual vs predicted values of dependent variables for 100 observation for better visualisation\n",
        "plt.figure(figsize=(15,7))\n",
        "plt.plot(np.square(y_pred_r[:100]))\n",
        "plt.plot(np.square(np.array(y_test[:100])))\n",
        "plt.legend([\"Predicted\",\"Actual\"])\n",
        "plt.show()"
      ],
      "metadata": {
        "id": "3kLyNP1TqTQd"
      },
      "execution_count": null,
      "outputs": []
    },
    {
      "cell_type": "markdown",
      "source": [
        "* Cross-validation & Hyperparameter tuning"
      ],
      "metadata": {
        "id": "HOGooG8xqeiX"
      }
    },
    {
      "cell_type": "code",
      "source": [],
      "metadata": {
        "id": "JevBBlHTqVLc"
      },
      "execution_count": null,
      "outputs": []
    },
    {
      "cell_type": "markdown",
      "source": [
        "##### Which hyperparameter optimization technique have you used and why?"
      ],
      "metadata": {
        "id": "PiV4Ypx8fxKe"
      }
    },
    {
      "cell_type": "markdown",
      "source": [
        "Answer Here."
      ],
      "metadata": {
        "id": "negyGRa7fxKf"
      }
    },
    {
      "cell_type": "markdown",
      "source": [
        "##### Have you seen any improvement? Note down the improvement with updates Evaluation metric Score Chart."
      ],
      "metadata": {
        "id": "TfvqoZmBfxKf"
      }
    },
    {
      "cell_type": "markdown",
      "source": [
        "Answer Here."
      ],
      "metadata": {
        "id": "OaLui8CcfxKf"
      }
    },
    {
      "cell_type": "markdown",
      "source": [
        "### ML Model - 1.2 : Lasso Regression"
      ],
      "metadata": {
        "id": "dJ2tPlVmpsJ0"
      }
    },
    {
      "cell_type": "markdown",
      "source": [
        "* Lasso (L2) Regularization"
      ],
      "metadata": {
        "id": "h-VWwjksq-iO"
      }
    },
    {
      "cell_type": "code",
      "source": [
        "lasso = Lasso(alpha=0.1).fit(X_train, y_train)              # 0.1 gives the least MSE and max r2\n",
        "print(\"Training set score: {:.2f}\".format(lasso.score(X_train, y_train)))\n",
        "print(\"Test set score: {:.2f}\".format(lasso.score(X_test, y_test)))\n",
        "print(\"Number of features used: {}\".format(np.sum(lasso.coef_ != 0)))"
      ],
      "metadata": {
        "id": "Sh-YjESQq_oJ"
      },
      "execution_count": null,
      "outputs": []
    },
    {
      "cell_type": "code",
      "source": [
        "y_pred_l = lasso.predict(X_test)"
      ],
      "metadata": {
        "id": "GXUVozzorGAT"
      },
      "execution_count": null,
      "outputs": []
    },
    {
      "cell_type": "code",
      "source": [
        "# Actual vs predicted values of dependent variables for 100 observation for better visualisation\n",
        "plt.figure(figsize=(15,7))\n",
        "plt.plot(np.square(y_pred_r[:100]))\n",
        "plt.plot(np.square(np.array(y_test[:100])))\n",
        "plt.legend([\"Predicted\",\"Actual\"])\n",
        "plt.show()"
      ],
      "metadata": {
        "id": "-uGhDNEGwFc5"
      },
      "execution_count": null,
      "outputs": []
    },
    {
      "cell_type": "markdown",
      "source": [
        "#### 1. Explain the ML Model used and it's performance using Evaluation metric Score Chart."
      ],
      "metadata": {
        "id": "JWYfwnehpsJ1"
      }
    },
    {
      "cell_type": "markdown",
      "source": [
        "*Regularization of Linear , Lasso (L2) is used for model optimization, though there is no significant improvement in the performance*"
      ],
      "metadata": {
        "id": "z7woB6RQrw_J"
      }
    },
    {
      "cell_type": "code",
      "source": [
        "# Visualizing evaluation Metric Score chart\n",
        "MSE  = mean_squared_error((y_test), (y_pred_l))\n",
        "print(\"MSE :\" , MSE)\n",
        "\n",
        "MAE=mean_absolute_error((y_test),(y_pred_l))\n",
        "print(\"MAE :\" ,MAE)\n",
        "\n",
        "RMSE = np.sqrt(MSE)\n",
        "print(\"RMSE :\" ,RMSE)\n",
        "\n",
        "r2 = r2_score((y_test),(y_pred_l))\n",
        "print(\"R2 :\" ,r2)\n",
        "\n",
        "n= X_test.shape[0]\n",
        "k= X_test.shape[1]\n",
        "adj_r2_score = 1 - ((1-r2)*(n-1)/(n-k-1))\n",
        "print(\"Adjusted R2 :\", adj_r2_score)"
      ],
      "metadata": {
        "id": "yEl-hgQWpsJ1"
      },
      "execution_count": null,
      "outputs": []
    },
    {
      "cell_type": "code",
      "source": [
        "# Actual vs predicted values of dependent variables for 100 observation for better visualisation\n",
        "plt.figure(figsize=(15,7))\n",
        "plt.plot(np.square(y_pred_l[:100]))\n",
        "plt.plot(np.square(np.array(y_test[:100])))\n",
        "plt.legend([\"Predicted\",\"Actual\"])\n",
        "plt.show()"
      ],
      "metadata": {
        "id": "SkDuhyuOrlg8"
      },
      "execution_count": null,
      "outputs": []
    },
    {
      "cell_type": "markdown",
      "source": [
        "#### 2. Cross- Validation & Hyperparameter Tuning"
      ],
      "metadata": {
        "id": "-jK_YjpMpsJ2"
      }
    },
    {
      "cell_type": "code",
      "source": [
        "# ML Model - 1 Implementation with hyperparameter optimization techniques (i.e., GridSearch CV, RandomSearch CV, Bayesian Optimization etc.)\n",
        "\n",
        "# Cross validation\n",
        "lasso = Lasso()\n",
        "parameters = {'alpha': [1e-15,1e-13,1e-10,1e-8,1e-5,1e-4,1e-3,1e-2,1e-1,1,5,10,20,30,40,45,50,55,60,100]}\n",
        "lasso_regressor = GridSearchCV(lasso, parameters, scoring='neg_mean_squared_error', cv=4)\n",
        "lasso_regressor.fit(X_train, y_train)"
      ],
      "metadata": {
        "id": "Dn0EOfS6psJ2"
      },
      "execution_count": null,
      "outputs": []
    },
    {
      "cell_type": "code",
      "source": [
        "print(\"The best fit alpha value is found out to be :\" ,lasso_regressor.best_params_)\n",
        "print(\"\\nUsing \",lasso_regressor.best_params_, \" the negative mean squared error is: \", lasso_regressor.best_score_)"
      ],
      "metadata": {
        "id": "90-jkRgWsW5X"
      },
      "execution_count": null,
      "outputs": []
    },
    {
      "cell_type": "code",
      "source": [
        "y_pred_lasso = lasso_regressor.predict(X_test)"
      ],
      "metadata": {
        "id": "k_7zAcUZsZZ6"
      },
      "execution_count": null,
      "outputs": []
    },
    {
      "cell_type": "code",
      "source": [
        "MSE  = mean_squared_error((y_test), (y_pred_lasso))\n",
        "print(\"MSE :\" , MSE)\n",
        "\n",
        "MAE=mean_absolute_error((y_test),(y_pred_lasso))\n",
        "print(\"MAE :\" ,MAE)\n",
        "\n",
        "RMSE = np.sqrt(MSE)\n",
        "print(\"RMSE :\" ,RMSE)\n",
        "\n",
        "r2 = r2_score((y_test),(y_pred_lasso))\n",
        "print(\"R2 :\" ,r2)\n",
        "\n",
        "n= X_test.shape[0]\n",
        "k= X_test.shape[1]\n",
        "adj_r2_score = 1 - ((1-r2)*(n-1)/(n-k-1))\n",
        "print(\"Adjusted R2 :\", adj_r2_score)"
      ],
      "metadata": {
        "id": "wrJoOTrmsbYa"
      },
      "execution_count": null,
      "outputs": []
    },
    {
      "cell_type": "markdown",
      "source": [
        "##### Which hyperparameter optimization technique have you used and why?"
      ],
      "metadata": {
        "id": "HAih1iBOpsJ2"
      }
    },
    {
      "cell_type": "markdown",
      "source": [
        "*GridSearchCV optimization technique was used.Since, it uses  a combination of hyperparameters in a specific order & fits the model on each & every coombination of hyperparameters possible*"
      ],
      "metadata": {
        "id": "9kBgjYcdpsJ2"
      }
    },
    {
      "cell_type": "markdown",
      "source": [
        "##### Have you seen any improvement? Note down the improvement with updates Evaluation metric Score Chart."
      ],
      "metadata": {
        "id": "zVGeBEFhpsJ2"
      }
    },
    {
      "cell_type": "markdown",
      "source": [
        "*There is no significant improvement in the performance , even after using Hyperparameter optimization*"
      ],
      "metadata": {
        "id": "74yRdG6UpsJ3"
      }
    },
    {
      "cell_type": "markdown",
      "source": [
        "#### 3. Explain each evaluation metric's indication towards business and the business impact of the ML model used."
      ],
      "metadata": {
        "id": "bmKjuQ-FpsJ3"
      }
    },
    {
      "cell_type": "markdown",
      "source": [
        "*Though the R2 score of 0.76 is considerable , indicating better prediction . But the MAE is also high, indicating high error in model prediction*"
      ],
      "metadata": {
        "id": "BDKtOrBQpsJ3"
      }
    },
    {
      "cell_type": "markdown",
      "source": [
        "### ML Model - 1.3 : Ridge Regression"
      ],
      "metadata": {
        "id": "Fze-IPXLpx6K"
      }
    },
    {
      "cell_type": "code",
      "source": [
        "# ML Model - 3 Implementation\n",
        "\n",
        "# Fit the Algorithm\n",
        "ridge = Ridge(alpha=0.05).fit(X_train, y_train)      # 0..5 gives the least MSE and max r2\n",
        "print(\"Training set score: {:.2f}\".format(ridge.score(X_train, y_train)))\n",
        "print(\"Test set score: {:.2f}\".format(ridge.score(X_test, y_test)))"
      ],
      "metadata": {
        "id": "FFrSXAtrpx6M"
      },
      "execution_count": null,
      "outputs": []
    },
    {
      "cell_type": "code",
      "source": [
        "y_pred_r = ridge.predict(X_test)"
      ],
      "metadata": {
        "id": "DW3CAJvQv1Ka"
      },
      "execution_count": null,
      "outputs": []
    },
    {
      "cell_type": "markdown",
      "source": [
        "#### 1. Explain the ML Model used and it's performance using Evaluation metric Score Chart."
      ],
      "metadata": {
        "id": "7AN1z2sKpx6M"
      }
    },
    {
      "cell_type": "code",
      "source": [
        "# Visualizing evaluation Metric Score chart\n",
        "\n",
        "MSE  = mean_squared_error((y_test), (y_pred_r))\n",
        "print(\"MSE :\" , MSE)\n",
        "\n",
        "MAE=mean_absolute_error((y_test), (y_pred_r))\n",
        "print(\"MAE :\" ,MAE)\n",
        "\n",
        "RMSE = np.sqrt(MSE)\n",
        "print(\"RMSE :\" ,RMSE)\n",
        "\n",
        "r2 = r2_score((y_test), (y_pred_r))\n",
        "print(\"R2 :\" ,r2)\n",
        "\n",
        "n= X_test.shape[0]\n",
        "k= X_test.shape[1]\n",
        "adj_r2_score = 1 - ((1-r2)*(n-1)/(n-k-1))\n",
        "print(\"Adjusted R2 :\", adj_r2_score)"
      ],
      "metadata": {
        "id": "xIY4lxxGpx6M"
      },
      "execution_count": null,
      "outputs": []
    },
    {
      "cell_type": "code",
      "source": [
        "# Actual vs predicted values of dependent variables for 100 observation for better visualisation\n",
        "plt.figure(figsize=(15,7))\n",
        "plt.plot(np.square(y_pred_r[:100]))\n",
        "plt.plot(np.square(np.array(y_test[:100])))\n",
        "plt.legend([\"Predicted\",\"Actual\"])\n",
        "plt.show()"
      ],
      "metadata": {
        "id": "G6eE9pTQwaKp"
      },
      "execution_count": null,
      "outputs": []
    },
    {
      "cell_type": "markdown",
      "source": [
        "#### 2. Cross- Validation & Hyperparameter Tuning"
      ],
      "metadata": {
        "id": "9PIHJqyupx6M"
      }
    },
    {
      "cell_type": "code",
      "source": [
        "# ML Model - 3 Implementation with hyperparameter optimization techniques (i.e., GridSearch CV, RandomSearch CV, Bayesian Optimization etc.)\n",
        "\n",
        "# Hyperprarameter tuning\n",
        "ridge = Ridge()\n",
        "parameters = {'alpha': [1e-15,1e-10,1e-8,1e-5,1e-4,1e-3,1e-2,1,5,10,20,30,40,45,50,55,60,100]}\n",
        "ridge_regressor = GridSearchCV(ridge, parameters, scoring='neg_mean_squared_error', cv=3)\n",
        "ridge_regressor.fit(X_train,y_train)"
      ],
      "metadata": {
        "id": "eSVXuaSKpx6M"
      },
      "execution_count": null,
      "outputs": []
    },
    {
      "cell_type": "code",
      "source": [
        "print(\"The best fit alpha value is found out to be :\" ,ridge_regressor.best_params_)\n",
        "print(\"\\nUsing \",ridge_regressor.best_params_, \" the negative mean squared error is: \", ridge_regressor.best_score_)"
      ],
      "metadata": {
        "id": "G34c-DDhwiDB"
      },
      "execution_count": null,
      "outputs": []
    },
    {
      "cell_type": "code",
      "source": [
        "# Model Prediction\n",
        "y_pred_ridge = ridge_regressor.predict(X_test)"
      ],
      "metadata": {
        "id": "Azxh-G7_wkUB"
      },
      "execution_count": null,
      "outputs": []
    },
    {
      "cell_type": "code",
      "source": [
        "MSE  = mean_squared_error((y_test), (y_pred_ridge))\n",
        "print(\"MSE :\" , MSE)\n",
        "\n",
        "RMSE = np.sqrt(MSE)\n",
        "print(\"RMSE :\" ,RMSE)\n",
        "\n",
        "r2 = r2_score((y_test), (y_pred_ridge))\n",
        "print(\"R2 :\" ,r2)\n",
        "\n",
        "n= X_test.shape[0]\n",
        "k= X_test.shape[1]\n",
        "adj_r2_score = 1 - ((1-r2)*(n-1)/(n-k-1))\n",
        "print(\"Adjusted R2 :\", adj_r2_score)"
      ],
      "metadata": {
        "id": "mqllQbEBwmHg"
      },
      "execution_count": null,
      "outputs": []
    },
    {
      "cell_type": "markdown",
      "source": [
        "##### Which hyperparameter optimization technique have you used and why?"
      ],
      "metadata": {
        "id": "_-qAgymDpx6N"
      }
    },
    {
      "cell_type": "markdown",
      "source": [
        "*GridSearchCV optimization technique was used.Since, it uses  a combination of hyperparameters in a specific order & fits the model on each & every coombination of hyperparameters possible*"
      ],
      "metadata": {
        "id": "lQMffxkwpx6N"
      }
    },
    {
      "cell_type": "markdown",
      "source": [
        "##### Have you seen any improvement? Note down the improvement with updates Evaluation metric Score Chart."
      ],
      "metadata": {
        "id": "Z-hykwinpx6N"
      }
    },
    {
      "cell_type": "markdown",
      "source": [
        "*There is no significant improvement in the performance , even after using Hyperparameter optimization*"
      ],
      "metadata": {
        "id": "MzVzZC6opx6N"
      }
    },
    {
      "cell_type": "markdown",
      "source": [
        "### Model - 1.4 : Elastic Net Regression"
      ],
      "metadata": {
        "id": "mB5r8FpkxGs6"
      }
    },
    {
      "cell_type": "code",
      "source": [
        "elasticnet = ElasticNet(alpha=0.1, l1_ratio=0.5)\n",
        "elasticnet.fit(X_train,y_train)"
      ],
      "metadata": {
        "id": "OjrCq1FYxSBR"
      },
      "execution_count": null,
      "outputs": []
    },
    {
      "cell_type": "code",
      "source": [
        "print(\"Training set score: {:.2f}\".format(elasticnet.score(X_train, y_train)))\n",
        "print(\"Test set score: {:.2f}\".format(elasticnet.score(X_test, y_test)))"
      ],
      "metadata": {
        "id": "nPCExLtTxUO8"
      },
      "execution_count": null,
      "outputs": []
    },
    {
      "cell_type": "code",
      "source": [
        "y_pred_e = elasticnet.predict(X_test)"
      ],
      "metadata": {
        "id": "9OJ6RnBaxV3x"
      },
      "execution_count": null,
      "outputs": []
    },
    {
      "cell_type": "markdown",
      "source": [
        "#### 1. Explain the ML Model used and it's performance using Evaluation metric Score Chart."
      ],
      "metadata": {
        "id": "jXKRUoqyxwnr"
      }
    },
    {
      "cell_type": "code",
      "source": [
        "MSE  = mean_squared_error((y_test),(y_pred_e))\n",
        "print(\"MSE :\" , MSE)\n",
        "\n",
        "MAE = mean_absolute_error(y_test, y_pred_e)\n",
        "print(\"MAE :\", MAE)\n",
        "\n",
        "RMSE = np.sqrt(MSE)\n",
        "print(\"RMSE :\" ,RMSE)\n",
        "\n",
        "r2 = r2_score((y_test),(y_pred_e))\n",
        "print(\"R2 :\" ,r2)\n",
        "\n",
        "n= X_test.shape[0]\n",
        "k= X_test.shape[1]\n",
        "adj_r2_score = 1 - ((1-r2)*(n-1)/(n-k-1))\n",
        "print(\"Adjusted R2 :\", adj_r2_score)"
      ],
      "metadata": {
        "id": "WQAbVDIWxY5z"
      },
      "execution_count": null,
      "outputs": []
    },
    {
      "cell_type": "markdown",
      "source": [
        "*R2 score for Elastic-Net regression is lesser  than Ridge & Lasso ,this is because Elastic regression generally works well on big datasets*"
      ],
      "metadata": {
        "id": "HnHQxPBtxfRd"
      }
    },
    {
      "cell_type": "code",
      "source": [
        "# Actual vs predicted values of dependent variables for 100 observation for better visualisation\n",
        "plt.figure(figsize=(15,7))\n",
        "plt.plot(np.square(y_pred_e[:100]))\n",
        "plt.plot(np.square(np.array(y_test[:100])))\n",
        "plt.legend([\"Predicted\",\"Actual\"])\n",
        "plt.show()"
      ],
      "metadata": {
        "id": "ZCQ7ZJ5bx2_J"
      },
      "execution_count": null,
      "outputs": []
    },
    {
      "cell_type": "markdown",
      "source": [
        "### Model - 2 : Decision Tree Regression"
      ],
      "metadata": {
        "id": "CT6oJlyox58B"
      }
    },
    {
      "cell_type": "code",
      "source": [
        "dtree = DecisionTreeRegressor( random_state = 0, max_depth = 25)        # max_depth = 25 --> gives least MSE and max r2 score in comparison to other values\n",
        "parameters = {'n_estimators':[500],\n",
        "            }"
      ],
      "metadata": {
        "id": "-kAkPL29yVkC"
      },
      "execution_count": null,
      "outputs": []
    },
    {
      "cell_type": "code",
      "source": [
        "dtree.fit(X_train, y_train)"
      ],
      "metadata": {
        "id": "tqlJvuM8yXKr"
      },
      "execution_count": null,
      "outputs": []
    },
    {
      "cell_type": "code",
      "source": [
        "print(\"Training set score: {:.3f}\".format(dtree.score(X_train, y_train)))\n",
        "print(\"Test set score: {:.3f}\".format(dtree.score(X_test, y_test)))"
      ],
      "metadata": {
        "id": "vhSwg35vyZOc"
      },
      "execution_count": null,
      "outputs": []
    },
    {
      "cell_type": "code",
      "source": [
        "y_pred_d = dtree.predict(X_test)"
      ],
      "metadata": {
        "id": "FodsaV2KyfF0"
      },
      "execution_count": null,
      "outputs": []
    },
    {
      "cell_type": "markdown",
      "source": [
        "#### 1. Explain the ML Model used and it's performance using Evaluation metric Score Chart."
      ],
      "metadata": {
        "id": "Ggp3ke1gyodX"
      }
    },
    {
      "cell_type": "code",
      "source": [
        "MSE  = mean_squared_error((y_test), (y_pred_d))\n",
        "print(\"MSE :\" , MSE)\n",
        "\n",
        "MAE = mean_absolute_error(y_test, y_pred_d)\n",
        "print(\"MAE\", MAE)\n",
        "\n",
        "RMSE = np.sqrt(MSE)\n",
        "print(\"RMSE :\" ,RMSE)\n",
        "\n",
        "r2 = r2_score((y_test), (y_pred_d))\n",
        "print(\"R2 :\" ,r2)\n",
        "\n",
        "n= X_test.shape[0]\n",
        "k= X_test.shape[1]\n",
        "adj_r2_score = 1 - ((1-r2)*(n-1)/(n-k-1))\n",
        "print(\"Adjusted R2 :\", adj_r2_score)"
      ],
      "metadata": {
        "id": "0wdUp1XJyo18"
      },
      "execution_count": null,
      "outputs": []
    },
    {
      "cell_type": "code",
      "source": [
        "# Actual vs predicted values of dependent variables for 100 observation for better visualisation\n",
        "plt.figure(figsize=(15,7))\n",
        "plt.plot(np.square(y_pred_d[:100]))\n",
        "plt.plot(np.square(np.array(y_test[:100])))\n",
        "plt.legend([\"Predicted\",\"Actual\"])\n",
        "plt.show()"
      ],
      "metadata": {
        "id": "QGzTlbS0yuw7"
      },
      "execution_count": null,
      "outputs": []
    },
    {
      "cell_type": "markdown",
      "source": [
        "*From the training-score & test-score, it can be seen that model overfits*"
      ],
      "metadata": {
        "id": "mHx7NUBgO4zi"
      }
    },
    {
      "cell_type": "markdown",
      "source": [
        "### Model-3 : Bagging Regression"
      ],
      "metadata": {
        "id": "pX7Wj6VNyxNz"
      }
    },
    {
      "cell_type": "code",
      "source": [
        "bagging = BaggingRegressor(random_state=0)\n",
        "bagging.fit(X_train, y_train)"
      ],
      "metadata": {
        "id": "PQTD8Xpuy7wy"
      },
      "execution_count": null,
      "outputs": []
    },
    {
      "cell_type": "code",
      "source": [
        "print(\"Training set score: {:.2f}\".format(bagging.score(X_train, y_train)))\n",
        "print(\"Test set score: {:.2f}\".format(bagging.score(X_test, y_test)))"
      ],
      "metadata": {
        "id": "I9cvWqpky9xr"
      },
      "execution_count": null,
      "outputs": []
    },
    {
      "cell_type": "code",
      "source": [
        "y_pred_bag = bagging.predict(X_test)"
      ],
      "metadata": {
        "id": "xgMxej7Ay_5p"
      },
      "execution_count": null,
      "outputs": []
    },
    {
      "cell_type": "markdown",
      "source": [
        "#### 1. Explain the ML Model used and it's performance using Evaluation metric Score Chart."
      ],
      "metadata": {
        "id": "mnAeu7qPzFAf"
      }
    },
    {
      "cell_type": "code",
      "source": [
        "MSE  = mean_squared_error((y_test),(y_pred_bag))\n",
        "print(\"MSE :\" , MSE)\n",
        "\n",
        "MAE = mean_absolute_error(y_test, y_pred_bag)\n",
        "print(\"MAE :\", MAE)\n",
        "\n",
        "RMSE = np.sqrt(MSE)\n",
        "print(\"RMSE :\" ,RMSE)\n",
        "\n",
        "r2 = r2_score((y_test), (y_pred_bag))\n",
        "print(\"R2 :\" ,r2)\n",
        "\n",
        "n= X_test.shape[0]\n",
        "k= X_test.shape[1]\n",
        "adj_r2_score = 1 - ((1-r2)*(n-1)/(n-k-1))\n",
        "print(\"Adjusted R2 :\", adj_r2_score)"
      ],
      "metadata": {
        "id": "84rJBHaWzBTJ"
      },
      "execution_count": null,
      "outputs": []
    },
    {
      "cell_type": "code",
      "source": [
        "# Actual vs predicted values of dependent variables for 100 observation for better visualisation\n",
        "plt.figure(figsize=(15,7))\n",
        "plt.plot(np.square(y_pred_bag[:100]))\n",
        "plt.plot(np.square(np.array(y_test[:100])))\n",
        "plt.legend([\"Predicted\",\"Actual\"])\n",
        "plt.show()"
      ],
      "metadata": {
        "id": "6_ZtKAOVzJR6"
      },
      "execution_count": null,
      "outputs": []
    },
    {
      "cell_type": "markdown",
      "source": [
        "### Model-4 : Random-Forest Regression"
      ],
      "metadata": {
        "id": "ERA0rQUXzLOU"
      }
    },
    {
      "cell_type": "code",
      "source": [
        "# fitting into regressor\n",
        "rfr = RandomForestRegressor(random_state=0)"
      ],
      "metadata": {
        "id": "23h18OUEzQYi"
      },
      "execution_count": null,
      "outputs": []
    },
    {
      "cell_type": "code",
      "source": [
        "rfr.fit(X_train, y_train)"
      ],
      "metadata": {
        "id": "tUDvUDY_zSYS"
      },
      "execution_count": null,
      "outputs": []
    },
    {
      "cell_type": "code",
      "source": [
        "print(\"Training set score: {:.2f}\".format(rfr.score(X_train, y_train)))\n",
        "print(\"Test set score: {:.2f}\".format(rfr.score(X_test, y_test)))"
      ],
      "metadata": {
        "id": "iMZYIbp9zUYT"
      },
      "execution_count": null,
      "outputs": []
    },
    {
      "cell_type": "code",
      "source": [
        "y_pred_rfr = rfr.predict(X_test)"
      ],
      "metadata": {
        "id": "I_WZEYiAzWl7"
      },
      "execution_count": null,
      "outputs": []
    },
    {
      "cell_type": "markdown",
      "source": [
        "#### 1. Explain the ML Model used and it's performance using Evaluation metric Score Chart."
      ],
      "metadata": {
        "id": "farCPBmWziDg"
      }
    },
    {
      "cell_type": "code",
      "source": [
        "MSE  = mean_squared_error((y_test),(y_pred_rfr))\n",
        "print(\"MSE :\" , MSE)\n",
        "\n",
        "MAE = mean_absolute_error(y_test, y_pred_rfr)\n",
        "print(\"MAE :\", MAE)\n",
        "\n",
        "RMSE = np.sqrt(MSE)\n",
        "print(\"RMSE :\" ,RMSE)\n",
        "\n",
        "r2 = r2_score((y_test), (y_pred_rfr))\n",
        "print(\"R2 :\" ,r2)\n",
        "\n",
        "n= X_test.shape[0]\n",
        "k= X_test.shape[1]\n",
        "adj_r2_score = 1 - ((1-r2)*(n-1)/(n-k-1))\n",
        "print(\"Adjusted R2 :\", adj_r2_score)"
      ],
      "metadata": {
        "id": "tZiTDwOozfcp"
      },
      "execution_count": null,
      "outputs": []
    },
    {
      "cell_type": "code",
      "source": [
        "# Actual vs predicted values of dependent variables for 100 observation for better visualisation\n",
        "plt.figure(figsize=(15,7))\n",
        "plt.plot(np.square(y_pred_rfr[:100]))\n",
        "plt.plot(np.square(np.array(y_test[:100])))\n",
        "plt.legend([\"Predicted\",\"Actual\"])\n",
        "plt.show()"
      ],
      "metadata": {
        "id": "_Jg6AAlnzluJ"
      },
      "execution_count": null,
      "outputs": []
    },
    {
      "cell_type": "markdown",
      "source": [
        "### Model-5 : Gradient Boosting Regression"
      ],
      "metadata": {
        "id": "w1buSFYZznjj"
      }
    },
    {
      "cell_type": "code",
      "source": [
        "# Gradient Boosting model\n",
        "GradientBoosting = GradientBoostingRegressor(random_state=0)"
      ],
      "metadata": {
        "id": "Yk3Z81Ruztnk"
      },
      "execution_count": null,
      "outputs": []
    },
    {
      "cell_type": "code",
      "source": [
        "GradientBoosting.fit(X_train, y_train)"
      ],
      "metadata": {
        "id": "Jkm-IAXozvhj"
      },
      "execution_count": null,
      "outputs": []
    },
    {
      "cell_type": "code",
      "source": [
        "print(\"Training set score: {:.2f}\".format(GradientBoosting.score(X_train, y_train)))\n",
        "print(\"Test set score: {:.2f}\".format(GradientBoosting.score(X_test, y_test)))"
      ],
      "metadata": {
        "id": "rnW5d-w-zxI6"
      },
      "execution_count": null,
      "outputs": []
    },
    {
      "cell_type": "code",
      "source": [
        "# Predictions on data\n",
        "y_pred_gb = GradientBoosting.predict(X_test)"
      ],
      "metadata": {
        "id": "lKqXGFZszzCJ"
      },
      "execution_count": null,
      "outputs": []
    },
    {
      "cell_type": "markdown",
      "source": [
        "#### 1. Explain the ML Model used and it's performance using Evaluation metric Score Chart."
      ],
      "metadata": {
        "id": "GQ9rA3yvz6Wh"
      }
    },
    {
      "cell_type": "code",
      "source": [
        "MSE  = mean_squared_error((y_test), (y_pred_gb))\n",
        "print(\"MSE :\" , MSE)\n",
        "\n",
        "MAE =mean_absolute_error(y_test, y_pred_gb)\n",
        "print(\"MAE :\", MAE)\n",
        "\n",
        "RMSE = np.sqrt(MSE)\n",
        "print(\"RMSE :\" ,RMSE)\n",
        "\n",
        "r2 = r2_score((y_test), (y_pred_gb))\n",
        "print(\"R2 :\" ,r2)\n",
        "\n",
        "n= X_test.shape[0]\n",
        "k= X_test.shape[1]\n",
        "adj_r2_score = 1 - ((1-r2)*(n-1)/(n-k-1))\n",
        "print(\"Adjusted R2 :\", adj_r2_score)"
      ],
      "metadata": {
        "id": "QXEiX4Etz6zq"
      },
      "execution_count": null,
      "outputs": []
    },
    {
      "cell_type": "code",
      "source": [
        "# Actual vs predicted values of dependent variables for 100 observation for better visualisation\n",
        "plt.figure(figsize=(15,7))\n",
        "plt.plot(np.square(y_pred_gb[:100]))\n",
        "plt.plot(np.square(np.array(y_test[:100])))\n",
        "plt.legend([\"Predicted\",\"Actual\"])\n",
        "plt.show()"
      ],
      "metadata": {
        "id": "7o3lPJBy0Ahc"
      },
      "execution_count": null,
      "outputs": []
    },
    {
      "cell_type": "markdown",
      "source": [
        "### Model-6 : XG-Boost Regression"
      ],
      "metadata": {
        "id": "3lGnVlew0Fol"
      }
    },
    {
      "cell_type": "code",
      "source": [
        "# XHB model\n",
        "xg_boost = XGBRegressor(random_state=0)"
      ],
      "metadata": {
        "id": "q9IEEu6d0PdR"
      },
      "execution_count": null,
      "outputs": []
    },
    {
      "cell_type": "code",
      "source": [
        "# Fitting the model\n",
        "xg_boost.fit(X_train,y_train)"
      ],
      "metadata": {
        "id": "P70Z-_T80WF6"
      },
      "execution_count": null,
      "outputs": []
    },
    {
      "cell_type": "code",
      "source": [
        "print(\"Training set score: {:.2f}\".format(xg_boost.score(X_train, y_train)))\n",
        "print(\"Test set score: {:.2f}\".format(xg_boost.score(X_test, y_test)))"
      ],
      "metadata": {
        "id": "7zeS7fjT0bi5"
      },
      "execution_count": null,
      "outputs": []
    },
    {
      "cell_type": "code",
      "source": [
        "# Prediction on test data\n",
        "y_pred_xgb = xg_boost.predict(X_test)"
      ],
      "metadata": {
        "id": "prKBwt320d_D"
      },
      "execution_count": null,
      "outputs": []
    },
    {
      "cell_type": "markdown",
      "source": [
        "#### 1. Explain the ML Model used and it's performance using Evaluation metric Score Chart."
      ],
      "metadata": {
        "id": "rEvHrpZs0ix7"
      }
    },
    {
      "cell_type": "markdown",
      "source": [
        "*Ensemble of decision tree , Extreme Gradient Boosting Algorithm is implemented, w.r.t R2 score and MAE it gives best prediction and model performance*"
      ],
      "metadata": {
        "id": "NbAsaelK0p6b"
      }
    },
    {
      "cell_type": "code",
      "source": [
        "MSE  = mean_squared_error((y_test),(y_pred_xgb))\n",
        "print(\"MSE :\" , MSE)\n",
        "\n",
        "MAE = mean_absolute_error(y_test, y_pred_xgb)\n",
        "print(\"MAE\", MAE)\n",
        "\n",
        "RMSE = np.sqrt(MSE)\n",
        "print(\"RMSE :\" ,RMSE)\n",
        "\n",
        "r2 = r2_score((y_test), (y_pred_xgb))\n",
        "print(\"R2 :\" ,r2)\n",
        "\n",
        "n= X_test.shape[0]\n",
        "k= X_test.shape[1]\n",
        "adj_r2_score = 1 - ((1-r2)*(n-1)/(n-k-1))\n",
        "print(\"Adjusted R2 :\", adj_r2_score)"
      ],
      "metadata": {
        "id": "iEkthNXL0jPB"
      },
      "execution_count": null,
      "outputs": []
    },
    {
      "cell_type": "code",
      "source": [
        "# Actual vs predicted values of dependent variables for 100 observation for better visualisation\n",
        "plt.figure(figsize=(15,7))\n",
        "plt.plot(np.square(y_pred_xgb[:100]))\n",
        "plt.plot(np.square(np.array(y_test[:100])))\n",
        "plt.legend([\"Predicted\",\"Actual\"])\n",
        "plt.show()"
      ],
      "metadata": {
        "id": "vRYYu2Je0mXP"
      },
      "execution_count": null,
      "outputs": []
    },
    {
      "cell_type": "markdown",
      "source": [
        "### Model-7 : KNN Regression"
      ],
      "metadata": {
        "id": "KHf8zjtX1CCF"
      }
    },
    {
      "cell_type": "code",
      "source": [
        "neighbors = np.arange(1,10)\n",
        "train_accuracy =np.empty(len(neighbors))\n",
        "test_accuracy = np.empty(len(neighbors))\n",
        "\n",
        "for i,k in enumerate(neighbors):\n",
        "    # Setup a knn classifier with k neighbors\n",
        "    knn = KNeighborsRegressor(n_neighbors=k)\n",
        "    \n",
        "    # Fit the model\n",
        "    knn.fit(X_train, y_train)\n",
        "    \n",
        "    # Compute accuracy on the training set\n",
        "    train_accuracy[i] = knn.score(X_train, y_train)\n",
        "    \n",
        "    # Compute accuracy on the test set\n",
        "    test_accuracy[i] = knn.score(X_test, y_test) "
      ],
      "metadata": {
        "id": "pxl5YxKh1Flp"
      },
      "execution_count": null,
      "outputs": []
    },
    {
      "cell_type": "code",
      "source": [
        "# Optimal value of k\n",
        "plt.title('k-NN Varying number of neighbors')\n",
        "plt.plot(neighbors, test_accuracy, label='Testing Accuracy')\n",
        "plt.plot(neighbors, train_accuracy, label='Training Accuracy')\n",
        "plt.legend()\n",
        "plt.xlabel('Number of neighbors')\n",
        "plt.ylabel('Accuracy')\n",
        "plt.show()"
      ],
      "metadata": {
        "id": "CJmY0_uz2D01"
      },
      "execution_count": null,
      "outputs": []
    },
    {
      "cell_type": "code",
      "source": [
        "knn_reg = KNeighborsRegressor(n_neighbors = 6)            # minkowski --> generalization of Eucledian & manhattan,  p= no of input variables\n",
        "knn_reg.fit(X_train, y_train)"
      ],
      "metadata": {
        "id": "iUIiY0GF2JFK"
      },
      "execution_count": null,
      "outputs": []
    },
    {
      "cell_type": "code",
      "source": [
        "print(\"Training set score: {:.2f}\".format(knn_reg.score(X_train, y_train)))\n",
        "print(\"Test set score: {:.2f}\".format(knn_reg.score(X_test, y_test)))"
      ],
      "metadata": {
        "id": "PGGuWPLt2L3j"
      },
      "execution_count": null,
      "outputs": []
    },
    {
      "cell_type": "code",
      "source": [
        "y_pred_knn = knn_reg.predict(X_test)"
      ],
      "metadata": {
        "id": "emcSZ8Yi2MmN"
      },
      "execution_count": null,
      "outputs": []
    },
    {
      "cell_type": "markdown",
      "source": [
        "#### 1. Explain the ML Model used and it's performance using Evaluation metric Score Chart."
      ],
      "metadata": {
        "id": "gyat7p_t2Rrs"
      }
    },
    {
      "cell_type": "markdown",
      "source": [
        "*KNN algorithm is implemented .High MSE, MAE & RMSE for knn can be due to the fact that KNN works best with lower dimensional data (less input variables)*"
      ],
      "metadata": {
        "id": "W8AVcunRaxZg"
      }
    },
    {
      "cell_type": "code",
      "source": [
        "MSE  = mean_squared_error(y_test,y_pred_knn)\n",
        "print(\"MSE :\" , MSE)\n",
        "\n",
        "MAE = mean_absolute_error(y_test, y_pred_xgb)\n",
        "print(\"MAE\", MAE)\n",
        "\n",
        "RMSE = np.sqrt(MSE)\n",
        "print(\"RMSE :\" ,RMSE)\n",
        "\n",
        "r2 = r2_score((y_test),(y_pred_knn))\n",
        "print(\"R2 :\" ,r2)\n",
        "\n",
        "n= X_test.shape[0]\n",
        "k= X_test.shape[1]\n",
        "adj_r2_score = 1 - ((1-r2)*(n-1)/(n-k-1))\n",
        "print(\"Adjusted R2 :\", adj_r2_score)"
      ],
      "metadata": {
        "id": "wy0l6PmG2Os1"
      },
      "execution_count": null,
      "outputs": []
    },
    {
      "cell_type": "code",
      "source": [
        "# Actual vs predicted values of dependent variables for 100 observation for better visualisation\n",
        "plt.figure(figsize=(15,7))\n",
        "plt.plot(np.square(y_pred_knn[:100]))\n",
        "plt.plot(np.square(np.array(y_test[:100])))\n",
        "plt.legend([\"Predicted\",\"Actual\"])\n",
        "plt.show()"
      ],
      "metadata": {
        "id": "sSEyRqFb2VC9"
      },
      "execution_count": null,
      "outputs": []
    },
    {
      "cell_type": "markdown",
      "source": [
        "### 1. Which Evaluation metrics did you consider for a positive business impact and why?"
      ],
      "metadata": {
        "id": "h_CCil-SKHpo"
      }
    },
    {
      "cell_type": "markdown",
      "source": [
        "* Regression Evaluation metrics"
      ],
      "metadata": {
        "id": "X0UWL3lwojQk"
      }
    },
    {
      "cell_type": "markdown",
      "source": [
        "We will assess our model performances on the basis of following metrics :\n",
        "1. Mean Absolute Error (MAE)\n",
        "2. Mean Squared Error (MSE)\n",
        "3. Root Mean Squared Error (RMSE)\n",
        "5. R2 score \n",
        "6. Adjusted R2 score"
      ],
      "metadata": {
        "id": "A8rHxNpLILrc"
      }
    },
    {
      "cell_type": "markdown",
      "source": [
        "### 2. Which ML model did you choose from the above created models as your final prediction model and why?"
      ],
      "metadata": {
        "id": "cBFFvTBNJzUa"
      }
    },
    {
      "cell_type": "code",
      "source": [
        "#Defining all these models\n",
        "models = [\n",
        "           ['Lasso ', Lasso(alpha=0.1)],\n",
        "           ['Ridge ', Ridge(alpha=0.05)],\n",
        "           ['Elastic-Net ', ElasticNet(alpha=0.1, l1_ratio=0.5)],\n",
        "           ['Bagging', BaggingRegressor(random_state=0)],\n",
        "           ['RandomForest ',RandomForestRegressor(random_state=0)],\n",
        "           ['Gradient-Boostiing ',GradientBoostingRegressor(random_state=0)], \n",
        "           ['XGB-Regressor', XGBRegressor(random_state=0)] ,\n",
        "           ['KNN-Regressor', KNeighborsRegressor(n_neighbors = 6)]    \n",
        "        ]\n"
      ],
      "metadata": {
        "id": "uiy_Q4pV275a"
      },
      "execution_count": null,
      "outputs": []
    },
    {
      "cell_type": "code",
      "source": [
        "#Let's run all the models and store the scores\n",
        "model_data = []\n",
        "for name,curr_model in models :\n",
        "    curr_model_data = {}\n",
        "    curr_model.random_state = 0\n",
        "    curr_model_data[\"Name\"] = name\n",
        "    curr_model.fit(X_train,y_train)\n",
        "    curr_model_data[\"MAE_train\"] =metrics.mean_absolute_error(y_train, curr_model.predict(X_train))\n",
        "    curr_model_data[\"MAE_test\"] =metrics.mean_absolute_error(y_test, curr_model.predict(X_test))\n",
        "    curr_model_data[\"R2_Score_train\"] = r2_score(y_train,curr_model.predict(X_train))\n",
        "    curr_model_data[\"R2_Score_test\"] = r2_score(y_test,curr_model.predict(X_test))\n",
        "    curr_model_data[\"RMSE_Score_train\"] = np.sqrt(mean_squared_error(y_train,curr_model.predict(X_train)))\n",
        "    curr_model_data[\"RMSE_Score_test\"] = np.sqrt(mean_squared_error(y_test,curr_model.predict(X_test)))\n",
        "\n",
        "    model_data.append(curr_model_data)"
      ],
      "metadata": {
        "id": "_2DEC_0g3BJC"
      },
      "execution_count": null,
      "outputs": []
    },
    {
      "cell_type": "code",
      "source": [
        "#printing the results dataframe\n",
        "results_df = pd.DataFrame(model_data)\n",
        "results_df"
      ],
      "metadata": {
        "id": "EXcDfa-b3EOQ"
      },
      "execution_count": null,
      "outputs": []
    },
    {
      "cell_type": "code",
      "source": [
        "plt.figure(figsize=(12, 8))\n",
        "ax=sns.barplot(x='Name', y='R2_Score_test',data=results_df)\n",
        "plt.setp(ax.get_xticklabels(), rotation=20);\n",
        "plt.title('R2 score of models')\n",
        "plt.xlabel('Models')\n",
        "plt.ylabel('R2 Score')\n",
        "ax.grid(False)"
      ],
      "metadata": {
        "id": "KIl7NLQO3U8U"
      },
      "execution_count": null,
      "outputs": []
    },
    {
      "cell_type": "code",
      "source": [
        "plt.figure(figsize=(12, 8))\n",
        "ax=sns.barplot(x='Name', y='MAE_test',data=results_df)\n",
        "plt.setp(ax.get_xticklabels(), rotation=20);\n",
        "plt.title('Mean Absolute Error for models')\n",
        "plt.xlabel('Models')\n",
        "plt.ylabel('Mean Absolute Error')\n",
        "ax.grid(False)"
      ],
      "metadata": {
        "id": "vF4KQxKe3YBs"
      },
      "execution_count": null,
      "outputs": []
    },
    {
      "cell_type": "markdown",
      "source": [
        "*Considering the R2 Score and MAE scaore , XG-Boost has the best performance wrt model prediction*"
      ],
      "metadata": {
        "id": "hIq55azE3GrC"
      }
    },
    {
      "cell_type": "markdown",
      "source": [
        "### 3. Explain the model which you have used and the feature importance using any model explainability tool?"
      ],
      "metadata": {
        "id": "HvGl1hHyA_VK"
      }
    },
    {
      "cell_type": "markdown",
      "source": [
        "**SHAPLEY Method** "
      ],
      "metadata": {
        "id": "e-X1CN6o3gfR"
      }
    },
    {
      "cell_type": "code",
      "source": [
        "pip install shap"
      ],
      "metadata": {
        "id": "KU06olu83iVZ"
      },
      "execution_count": null,
      "outputs": []
    },
    {
      "cell_type": "code",
      "source": [
        "# importing shap\n",
        "import shap "
      ],
      "metadata": {
        "id": "mjGMhLCA3l1I"
      },
      "execution_count": null,
      "outputs": []
    },
    {
      "cell_type": "code",
      "source": [
        "# Create the object that can calculate shap values\n",
        "explainer = shap.Explainer(rfr)\n",
        "# Calculate shap values\n",
        "shap_values = explainer(X_train)"
      ],
      "metadata": {
        "id": "kgDyDUrN5NDs"
      },
      "execution_count": null,
      "outputs": []
    },
    {
      "cell_type": "code",
      "source": [
        "shap.initjs()\n",
        "shap.force_plot(explainer.expected_value, shap_values.values[0,:],X.iloc[0,:])"
      ],
      "metadata": {
        "id": "F9yMoNKQ5Oqs"
      },
      "execution_count": null,
      "outputs": []
    },
    {
      "cell_type": "code",
      "source": [
        "# Obtain a Bar Summary Plot\n",
        "shap.summary_plot(shap_values, X_train, plot_type=\"bar\")"
      ],
      "metadata": {
        "id": "ckTpUdtu5Stu"
      },
      "execution_count": null,
      "outputs": []
    },
    {
      "cell_type": "code",
      "source": [
        "# Beeswarm plot\n",
        "shap.plots.beeswarm(shap_values)"
      ],
      "metadata": {
        "id": "6-8ybfuh5fhu"
      },
      "execution_count": null,
      "outputs": []
    },
    {
      "cell_type": "markdown",
      "source": [
        "* The above plots shows top features & their contribution to push the model output from the base value (the average model output over the training dataset we passed) to the model output. Features pushing the prediction higher are shown in red and those pushing the prediction lower are in blue.\n",
        "* So, *Daily_views* & *Speaker_avg_values* pushes the prediction lower, while *time_since_published* and *year* pushes the prediction higher.\n",
        "* The base value (mean value) of our output is around 1 million views\n"
      ],
      "metadata": {
        "id": "kLmpgU7HVpB9"
      }
    },
    {
      "cell_type": "markdown",
      "source": [
        "## ***8.*** ***Future Work (Optional)***"
      ],
      "metadata": {
        "id": "EyNgTHvd2WFk"
      }
    },
    {
      "cell_type": "markdown",
      "source": [
        "### 1. Save the best performing ml model in a pickle file or joblib file format for deployment process.\n"
      ],
      "metadata": {
        "id": "KH5McJBi2d8v"
      }
    },
    {
      "cell_type": "code",
      "source": [
        "# Save the File"
      ],
      "metadata": {
        "id": "bQIANRl32f4J"
      },
      "execution_count": null,
      "outputs": []
    },
    {
      "cell_type": "markdown",
      "source": [
        "### 2. Again Load the saved model file and try to predict unseen data for a sanity check.\n"
      ],
      "metadata": {
        "id": "iW_Lq9qf2h6X"
      }
    },
    {
      "cell_type": "code",
      "source": [
        "# Load the File and predict unseen data."
      ],
      "metadata": {
        "id": "oEXk9ydD2nVC"
      },
      "execution_count": null,
      "outputs": []
    },
    {
      "cell_type": "markdown",
      "source": [
        "### ***Congrats! Your model is successfully created and ready for deployment on a live server for a real user interaction !!!***"
      ],
      "metadata": {
        "id": "-Kee-DAl2viO"
      }
    },
    {
      "cell_type": "markdown",
      "source": [
        "# **Conclusion**"
      ],
      "metadata": {
        "id": "gCX9965dhzqZ"
      }
    },
    {
      "cell_type": "markdown",
      "source": [
        "**Summary :**"
      ],
      "metadata": {
        "id": "tWpE_Lay5pkM"
      }
    },
    {
      "cell_type": "markdown",
      "source": [
        "* We trained 8 Machine Learning models on training dataset by considering the best parameters for each model.\n",
        "* The performance of each model was evaluated using comparison graph between Predicted and Actual values and some Regression evaluation metrics.\n",
        "* We started with Linear regression, and further implemented regularizations to the same.\n",
        "* To further evaluate our dataset on more complex and restricted parameters , we used Decision Trees and its ensemble techniques.\n",
        "* Considering the overall optimal values from errors and R2 score, **Random-Forest** has least errors and optimal R2 score for training and test dataset.\n"
      ],
      "metadata": {
        "id": "dwVTS5g-aR3v"
      }
    },
    {
      "cell_type": "markdown",
      "source": [
        "**Conclusion :**\n",
        "* Focus should be given on specific topics, number of topics and available languages count.\n",
        "* Overall theme of majority of the events focus on Education & Self-development\n",
        "* Events should be made available in as many languages as possible\n",
        "* Those speakers should be selected, who have made a significant contribution in their respective field and possess significant knowledge\n",
        "* Events should be published online mostly on Friday and in the month of March\n",
        "* Avg views prediction for new TED event wrt given dataset will be around 2.17 million"
      ],
      "metadata": {
        "id": "p2lRVPwyX2jS"
      }
    },
    {
      "cell_type": "markdown",
      "source": [
        "# ***Hurrah! You have successfully completed your Machine Learning Capstone Project !!!***"
      ],
      "metadata": {
        "id": "gIfDvo9L0UH2"
      }
    }
  ]
}